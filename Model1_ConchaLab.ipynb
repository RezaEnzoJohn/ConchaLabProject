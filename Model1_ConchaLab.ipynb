{
 "cells": [
  {
   "cell_type": "markdown",
   "id": "ccb6d94c",
   "metadata": {},
   "source": [
    "# Concha Lab Project"
   ]
  },
  {
   "cell_type": "markdown",
   "id": "9417eaac",
   "metadata": {},
   "source": [
    "## The first Part of Project, analysing different machin learning methods"
   ]
  },
  {
   "cell_type": "markdown",
   "id": "7dc50ef9",
   "metadata": {},
   "source": [
    "### -- For this part, I cleaned the data, and I was looking for the right algorithm to predict 4 outputs based on our data for three gains.\n",
    "### -- I tried Random forest, as a Bagging method, SVR regressor, Gradient Boosting Regressor as Boosting method, and KNN."
   ]
  },
  {
   "cell_type": "markdown",
   "id": "9344615c",
   "metadata": {},
   "source": [
    "### In first part, I tuned Random Forest model with different hyperparameters, and compared three different methods based on Random Forest base algorithm to see the  difference between these models.\n",
    "### There was not significant difference between these three methods based on using data.\n",
    "\n",
    "### After using all these methods, I tried different approch to increse the accuracy of the model and then use it for final model."
   ]
  },
  {
   "cell_type": "code",
   "execution_count": 18,
   "id": "027e4275",
   "metadata": {},
   "outputs": [],
   "source": [
    "# importing some useful libraries for the first part of project\n",
    "import numpy as np\n",
    "import scipy\n",
    "import pandas as pd\n",
    "import math\n",
    "import random\n",
    "import pickle\n",
    "import seaborn as sns\n",
    "\n",
    "from sklearn.multioutput import RegressorChain\n",
    "from sklearn.neighbors import KNeighborsRegressor\n",
    "from sklearn.metrics import mean_squared_error, mean_absolute_error\n",
    "from sklearn.ensemble import RandomForestRegressor\n",
    "from sklearn.model_selection import train_test_split\n",
    "from sklearn.multioutput import MultiOutputRegressor\n",
    "from sklearn.model_selection import GridSearchCV\n",
    "from sklearn import metrics\n",
    "import matplotlib.pyplot as plt"
   ]
  },
  {
   "cell_type": "code",
   "execution_count": 19,
   "id": "aecb6cd4",
   "metadata": {},
   "outputs": [
    {
     "name": "stderr",
     "output_type": "stream",
     "text": [
      "C:\\Users\\gjaha\\anaconda3\\envs\\cv\\lib\\site-packages\\IPython\\core\\interactiveshell.py:3186: DtypeWarning: Columns (2,3,4,5,6,7,8,9,10,11,12,13,14,15) have mixed types.Specify dtype option on import or set low_memory=False.\n",
      "  interactivity=interactivity, compiler=compiler, result=result)\n"
     ]
    }
   ],
   "source": [
    "# Load the data from local computer, and drop redundant features.\n",
    "df = pd.read_csv('Paper3_WebData_Final.csv')\n",
    "df = df.drop(['test_date','nid','gender','naics', 'age_group','region','NAICS_descr'], axis=1)\n",
    "df_L = df.drop(['R500k','R1k','R2k','R3k', 'R4k', 'R6k', 'R8k'], axis=1)\n",
    "df_R = df.drop(['L500k','L1k','L2k','L3k', 'L4k', 'L6k', 'L8k'], axis=1)\n",
    "\n",
    "# Seperating left and right ears data so that we could use them for creating model.\n",
    "df_L.columns = ['500k','1k','2k','3k', '4k', '6k', '8k']\n",
    "df_R.columns = ['500k','1k','2k','3k', '4k', '6k', '8k']\n",
    "data = pd.concat([df_L, df_R], axis=0)"
   ]
  },
  {
   "cell_type": "code",
   "execution_count": 20,
   "id": "2f506ac5",
   "metadata": {},
   "outputs": [],
   "source": [
    "# cleaning data, removing nan values, and '**', and converting object type to int.\n",
    "data.isnull().sum()/data.shape[0]\n",
    "data = data.replace('**',np.nan)\n",
    "data = data.dropna()\n",
    "data.isnull().sum()\n",
    "data=data.astype(int)"
   ]
  },
  {
   "cell_type": "code",
   "execution_count": 39,
   "id": "5c97b04c",
   "metadata": {},
   "outputs": [
    {
     "data": {
      "text/html": [
       "<div>\n",
       "<style scoped>\n",
       "    .dataframe tbody tr th:only-of-type {\n",
       "        vertical-align: middle;\n",
       "    }\n",
       "\n",
       "    .dataframe tbody tr th {\n",
       "        vertical-align: top;\n",
       "    }\n",
       "\n",
       "    .dataframe thead th {\n",
       "        text-align: right;\n",
       "    }\n",
       "</style>\n",
       "<table border=\"1\" class=\"dataframe\">\n",
       "  <thead>\n",
       "    <tr style=\"text-align: right;\">\n",
       "      <th></th>\n",
       "      <th>500k</th>\n",
       "      <th>1k</th>\n",
       "      <th>2k</th>\n",
       "      <th>3k</th>\n",
       "      <th>4k</th>\n",
       "      <th>6k</th>\n",
       "      <th>8k</th>\n",
       "    </tr>\n",
       "  </thead>\n",
       "  <tbody>\n",
       "    <tr>\n",
       "      <th>count</th>\n",
       "      <td>1.029866e+06</td>\n",
       "      <td>1.029866e+06</td>\n",
       "      <td>1.029866e+06</td>\n",
       "      <td>1.029866e+06</td>\n",
       "      <td>1.029866e+06</td>\n",
       "      <td>1.029866e+06</td>\n",
       "      <td>1.029866e+06</td>\n",
       "    </tr>\n",
       "    <tr>\n",
       "      <th>mean</th>\n",
       "      <td>1.274453e+01</td>\n",
       "      <td>1.320948e+01</td>\n",
       "      <td>1.938259e+01</td>\n",
       "      <td>3.027640e+01</td>\n",
       "      <td>3.766594e+01</td>\n",
       "      <td>3.925810e+01</td>\n",
       "      <td>4.063962e+01</td>\n",
       "    </tr>\n",
       "    <tr>\n",
       "      <th>std</th>\n",
       "      <td>9.544690e+00</td>\n",
       "      <td>1.081701e+01</td>\n",
       "      <td>1.521308e+01</td>\n",
       "      <td>1.969767e+01</td>\n",
       "      <td>2.109007e+01</td>\n",
       "      <td>2.182581e+01</td>\n",
       "      <td>2.739760e+01</td>\n",
       "    </tr>\n",
       "    <tr>\n",
       "      <th>min</th>\n",
       "      <td>-5.000000e+00</td>\n",
       "      <td>-5.000000e+00</td>\n",
       "      <td>-5.000000e+00</td>\n",
       "      <td>-5.000000e+00</td>\n",
       "      <td>-5.000000e+00</td>\n",
       "      <td>-5.000000e+00</td>\n",
       "      <td>-5.000000e+00</td>\n",
       "    </tr>\n",
       "    <tr>\n",
       "      <th>25%</th>\n",
       "      <td>5.000000e+00</td>\n",
       "      <td>5.000000e+00</td>\n",
       "      <td>1.000000e+01</td>\n",
       "      <td>1.500000e+01</td>\n",
       "      <td>2.000000e+01</td>\n",
       "      <td>2.000000e+01</td>\n",
       "      <td>2.000000e+01</td>\n",
       "    </tr>\n",
       "    <tr>\n",
       "      <th>50%</th>\n",
       "      <td>1.000000e+01</td>\n",
       "      <td>1.000000e+01</td>\n",
       "      <td>1.500000e+01</td>\n",
       "      <td>2.500000e+01</td>\n",
       "      <td>3.500000e+01</td>\n",
       "      <td>3.500000e+01</td>\n",
       "      <td>3.500000e+01</td>\n",
       "    </tr>\n",
       "    <tr>\n",
       "      <th>75%</th>\n",
       "      <td>1.500000e+01</td>\n",
       "      <td>2.000000e+01</td>\n",
       "      <td>2.500000e+01</td>\n",
       "      <td>4.500000e+01</td>\n",
       "      <td>5.500000e+01</td>\n",
       "      <td>5.500000e+01</td>\n",
       "      <td>6.000000e+01</td>\n",
       "    </tr>\n",
       "    <tr>\n",
       "      <th>max</th>\n",
       "      <td>9.900000e+01</td>\n",
       "      <td>9.900000e+01</td>\n",
       "      <td>9.900000e+01</td>\n",
       "      <td>9.900000e+01</td>\n",
       "      <td>9.900000e+01</td>\n",
       "      <td>9.900000e+01</td>\n",
       "      <td>9.900000e+01</td>\n",
       "    </tr>\n",
       "  </tbody>\n",
       "</table>\n",
       "</div>"
      ],
      "text/plain": [
       "               500k            1k            2k            3k            4k  \\\n",
       "count  1.029866e+06  1.029866e+06  1.029866e+06  1.029866e+06  1.029866e+06   \n",
       "mean   1.274453e+01  1.320948e+01  1.938259e+01  3.027640e+01  3.766594e+01   \n",
       "std    9.544690e+00  1.081701e+01  1.521308e+01  1.969767e+01  2.109007e+01   \n",
       "min   -5.000000e+00 -5.000000e+00 -5.000000e+00 -5.000000e+00 -5.000000e+00   \n",
       "25%    5.000000e+00  5.000000e+00  1.000000e+01  1.500000e+01  2.000000e+01   \n",
       "50%    1.000000e+01  1.000000e+01  1.500000e+01  2.500000e+01  3.500000e+01   \n",
       "75%    1.500000e+01  2.000000e+01  2.500000e+01  4.500000e+01  5.500000e+01   \n",
       "max    9.900000e+01  9.900000e+01  9.900000e+01  9.900000e+01  9.900000e+01   \n",
       "\n",
       "                 6k            8k  \n",
       "count  1.029866e+06  1.029866e+06  \n",
       "mean   3.925810e+01  4.063962e+01  \n",
       "std    2.182581e+01  2.739760e+01  \n",
       "min   -5.000000e+00 -5.000000e+00  \n",
       "25%    2.000000e+01  2.000000e+01  \n",
       "50%    3.500000e+01  3.500000e+01  \n",
       "75%    5.500000e+01  6.000000e+01  \n",
       "max    9.900000e+01  9.900000e+01  "
      ]
     },
     "execution_count": 39,
     "metadata": {},
     "output_type": "execute_result"
    }
   ],
   "source": [
    "# desciption of data\n",
    "data.describe()"
   ]
  },
  {
   "cell_type": "code",
   "execution_count": 40,
   "id": "c9c5c51c",
   "metadata": {},
   "outputs": [
    {
     "name": "stdout",
     "output_type": "stream",
     "text": [
      "Unique input values\n",
      "[ 5 20 15 30 35 10  0 25 50 45 55 40 65 70 60 80 90 95 75 -5 85 -1  9 49\n",
      " 26  6 21  1  2 96 97 98 99 94 16  3  7 67 29]\n",
      "[10  5 15 20 35 40 25 80 45 60 50 55  0 30 65 70 75 90 85 95 -5 19  4  7\n",
      " 18 36  3 28 58 26 42 29 74 54 96 97 99 98 94  2 92 -1  6 24 38 43 27  8\n",
      " 16 32 83]\n",
      "[ 5 10 20 15 25 60 70 90 35 55  0 75 45 30 40 65 50 80 85 95 -5 22  1 13\n",
      " 49 44 14 57  8 97 96 99 98 94  6 92 -1  4 38 61 54 26 27 62 41 51  2]\n",
      "\n",
      "Unique output values\n",
      "[10 15  5 25 20  0 30 35 45 40 70 50 55 90 80 65 60 75 85 95 -1 -5  1  7\n",
      "  8 12 16  6 28  9 96 97 98 99 94  4  3 24 14 13]\n",
      "[ 5 10 20 15 25  0 40 35 30 50 45 70 55 60 90 65 80 75 95 -1 85 -5  9  4\n",
      "  1 11 13 21  2  8 96 97 98 99 94 19 31  3 27 12]\n",
      "[15 20 30 25 60 40 45 10  5 55 35 50  0 70 65 75 85 80 90 95 -5 -1  4  1\n",
      " 61 48  9 18 52 27 71 96 97 99 98 94  6 39 92 56  2 29  8 22 62 17]\n",
      "[25  0 15 45 50 85 20  5 35 10 30 75 55 40 60 80 70 65 90 95 -5  6  2 79\n",
      " 21 18  9 28 49 37 32 63 16  3 97 96 98 99 94 92 -1 26  4 71 12  7 76 53\n",
      " 67 89 72]\n"
     ]
    }
   ],
   "source": [
    "# Prints out all the unique values for each of the columns.\n",
    "print(\"Unique input values\")\n",
    "for col in inputs:\n",
    "    print(inputs[col].unique())\n",
    "    \n",
    "print()\n",
    "\n",
    "print(\"Unique output values\")\n",
    "for col in outputs:\n",
    "    print(outputs[col].unique())"
   ]
  },
  {
   "cell_type": "code",
   "execution_count": 41,
   "id": "dc571159",
   "metadata": {},
   "outputs": [
    {
     "name": "stdout",
     "output_type": "stream",
     "text": [
      "Unique input values\n",
      " 10    260098\n",
      " 5     207589\n",
      " 15    207297\n",
      " 20    122235\n",
      " 0     104449\n",
      " 25     62526\n",
      " 30     29458\n",
      " 35     13570\n",
      " 40      7697\n",
      " 45      4820\n",
      " 50      2836\n",
      " 55      1850\n",
      "-5       1570\n",
      " 60      1356\n",
      " 65       861\n",
      " 70       521\n",
      " 75       326\n",
      " 80       258\n",
      "-1        178\n",
      " 85       133\n",
      " 90       107\n",
      " 99        35\n",
      " 95        30\n",
      " 96        24\n",
      " 8          6\n",
      " 97         6\n",
      " 7          5\n",
      " 98         5\n",
      " 1          4\n",
      " 6          3\n",
      " 4          2\n",
      " 94         2\n",
      " 9          2\n",
      " 12         1\n",
      " 13         1\n",
      " 14         1\n",
      " 16         1\n",
      " 3          1\n",
      " 28         1\n",
      " 24         1\n",
      "Name: 500k, dtype: int64\n",
      " 10    236900\n",
      " 5     218137\n",
      " 15    185714\n",
      " 20    122576\n",
      " 0     114377\n",
      " 25     62833\n",
      " 30     33169\n",
      " 35     18365\n",
      " 40     11140\n",
      " 45      8108\n",
      " 50      5492\n",
      " 55      3692\n",
      "-5       2735\n",
      " 60      2332\n",
      " 65      1407\n",
      " 70       936\n",
      " 75       553\n",
      " 80       418\n",
      "-1        371\n",
      " 85       247\n",
      " 90       194\n",
      " 99        55\n",
      " 95        49\n",
      " 96        25\n",
      " 4          7\n",
      " 97         6\n",
      " 98         6\n",
      " 1          5\n",
      " 2          3\n",
      " 94         2\n",
      " 11         2\n",
      " 9          2\n",
      " 3          1\n",
      " 12         1\n",
      " 8          1\n",
      " 13         1\n",
      " 19         1\n",
      " 21         1\n",
      " 27         1\n",
      " 31         1\n",
      "Name: 1k, dtype: int64\n",
      " 10    167545\n",
      " 15    151997\n",
      " 5     139058\n",
      " 20    134409\n",
      " 25    104437\n",
      " 0      86972\n",
      " 30     72440\n",
      " 35     46893\n",
      " 40     32754\n",
      " 45     24646\n",
      " 50     19468\n",
      " 55     16639\n",
      " 60     12376\n",
      " 65      7478\n",
      " 70      4048\n",
      "-5       3161\n",
      " 75      2331\n",
      " 80      1231\n",
      " 85       625\n",
      "-1        616\n",
      " 90       421\n",
      " 99       132\n",
      " 95       113\n",
      " 96        42\n",
      " 97         7\n",
      " 98         6\n",
      " 1          3\n",
      " 2          3\n",
      " 6          3\n",
      " 7          2\n",
      " 94         2\n",
      " 3          1\n",
      " 49         1\n",
      " 9          1\n",
      " 16         1\n",
      " 21         1\n",
      " 67         1\n",
      " 29         1\n",
      " 26         1\n",
      "Name: 2k, dtype: int64\n",
      " 20    105307\n",
      " 15    103372\n",
      " 25     98904\n",
      " 10     93584\n",
      " 30     86373\n",
      " 35     73089\n",
      " 5      71575\n",
      " 40     63516\n",
      " 45     60216\n",
      " 50     57596\n",
      " 55     54371\n",
      " 0      46587\n",
      " 60     44013\n",
      " 65     29190\n",
      " 70     17899\n",
      " 75     10670\n",
      " 80      5748\n",
      " 85      2823\n",
      "-5       2365\n",
      " 90      1547\n",
      "-1        386\n",
      " 95       311\n",
      " 99       288\n",
      " 96        71\n",
      " 98        26\n",
      " 97        12\n",
      " 1          3\n",
      " 9          2\n",
      " 56         2\n",
      " 52         2\n",
      " 94         2\n",
      " 92         2\n",
      " 27         1\n",
      " 29         1\n",
      " 22         1\n",
      " 18         1\n",
      " 17         1\n",
      " 39         1\n",
      " 71         1\n",
      " 8          1\n",
      " 6          1\n",
      " 62         1\n",
      " 4          1\n",
      " 2          1\n",
      " 61         1\n",
      " 48         1\n",
      "Name: 3k, dtype: int64\n",
      " 30    82041\n",
      " 25    81196\n",
      " 35    80896\n",
      " 45    80123\n",
      " 40    79859\n",
      " 20    77057\n",
      " 50    77028\n",
      " 55    72371\n",
      " 15    69250\n",
      " 60    60813\n",
      " 10    58931\n",
      " 65    45773\n",
      " 5     43102\n",
      " 70    33015\n",
      " 0     29944\n",
      " 75    23036\n",
      " 80    15427\n",
      " 85     9299\n",
      " 90     6308\n",
      "-5      1812\n",
      " 95     1291\n",
      " 99      719\n",
      "-1       425\n",
      " 96       83\n",
      " 97       21\n",
      " 98       14\n",
      " 92        3\n",
      " 2         2\n",
      " 7         2\n",
      " 8         2\n",
      " 27        2\n",
      " 94        2\n",
      " 29        1\n",
      " 42        1\n",
      " 58        1\n",
      " 3         1\n",
      " 4         1\n",
      " 83        1\n",
      " 6         1\n",
      " 54        1\n",
      " 43        1\n",
      " 38        1\n",
      " 28        1\n",
      " 16        1\n",
      " 18        1\n",
      " 19        1\n",
      " 36        1\n",
      " 24        1\n",
      " 32        1\n",
      " 26        1\n",
      " 74        1\n",
      "Name: 4k, dtype: int64\n",
      " 30    86822\n",
      " 35    86023\n",
      " 25    84094\n",
      " 40    81888\n",
      " 20    77591\n",
      " 45    77258\n",
      " 50    68754\n",
      " 15    66503\n",
      " 55    62650\n",
      " 60    55050\n",
      " 10    53077\n",
      " 65    47084\n",
      " 70    37492\n",
      " 5     36089\n",
      " 75    29158\n",
      " 0     24441\n",
      " 80    23186\n",
      " 85    15700\n",
      " 90    11067\n",
      " 95     3282\n",
      " 99     1311\n",
      "-5       919\n",
      "-1       208\n",
      " 98       75\n",
      " 96       74\n",
      " 97       39\n",
      " 92        7\n",
      " 94        2\n",
      " 1         2\n",
      " 8         2\n",
      " 14        2\n",
      " 2         1\n",
      " 4         1\n",
      " 6         1\n",
      " 13        1\n",
      " 51        1\n",
      " 54        1\n",
      " 22        1\n",
      " 26        1\n",
      " 27        1\n",
      " 62        1\n",
      " 61        1\n",
      " 38        1\n",
      " 57        1\n",
      " 41        1\n",
      " 44        1\n",
      " 49        1\n",
      "Name: 6k, dtype: int64\n",
      " 20    75500\n",
      " 25    73990\n",
      " 15    73534\n",
      " 30    70209\n",
      " 98    68195\n",
      " 10    67873\n",
      " 35    65412\n",
      " 40    60713\n",
      " 45    57952\n",
      " 50    53695\n",
      " 5     52572\n",
      " 55    52428\n",
      " 60    48398\n",
      " 0     47321\n",
      " 65    43638\n",
      " 70    37141\n",
      " 75    30290\n",
      " 80    20014\n",
      " 85    12472\n",
      " 90    11451\n",
      " 95     3022\n",
      "-5      1748\n",
      " 99     1528\n",
      "-1       403\n",
      " 96      235\n",
      " 97       50\n",
      " 92       31\n",
      " 71       14\n",
      " 79        5\n",
      " 2         4\n",
      " 3         3\n",
      " 6         3\n",
      " 32        2\n",
      " 28        2\n",
      " 21        2\n",
      " 49        1\n",
      " 12        1\n",
      " 4         1\n",
      " 72        1\n",
      " 7         1\n",
      " 9         1\n",
      " 16        1\n",
      " 67        1\n",
      " 89        1\n",
      " 18        1\n",
      " 63        1\n",
      " 94        1\n",
      " 26        1\n",
      " 53        1\n",
      " 37        1\n",
      " 76        1\n",
      "Name: 8k, dtype: int64\n"
     ]
    }
   ],
   "source": [
    "# Look at the unique values for each column\n",
    "print(\"Unique input values\")\n",
    "for col in data:\n",
    "    print(data[col].value_counts())"
   ]
  },
  {
   "cell_type": "code",
   "execution_count": 42,
   "id": "45e517c3",
   "metadata": {},
   "outputs": [
    {
     "data": {
      "image/png": "[encoded data removed]",
      "text/plain": [
       "<Figure size 432x288 with 1 Axes>"
      ]
     },
     "metadata": {
      "needs_background": "light"
     },
     "output_type": "display_data"
    },
    {
     "data": {
      "image/png": "[encoded data removed]",
      "text/plain": [
       "<Figure size 432x288 with 1 Axes>"
      ]
     },
     "metadata": {
      "needs_background": "light"
     },
     "output_type": "display_data"
    },
    {
     "data": {
      "image/png": "[encoded data removed]",
      "text/plain": [
       "<Figure size 432x288 with 1 Axes>"
      ]
     },
     "metadata": {
      "needs_background": "light"
     },
     "output_type": "display_data"
    },
    {
     "data": {
      "image/png": "[encoded data removed]",
      "text/plain": [
       "<Figure size 432x288 with 1 Axes>"
      ]
     },
     "metadata": {
      "needs_background": "light"
     },
     "output_type": "display_data"
    },
    {
     "data": {
      "image/png": "[encoded data removed]",
      "text/plain": [
       "<Figure size 432x288 with 1 Axes>"
      ]
     },
     "metadata": {
      "needs_background": "light"
     },
     "output_type": "display_data"
    },
    {
     "data": {
      "image/png": "[encoded data removed]",
      "text/plain": [
       "<Figure size 432x288 with 1 Axes>"
      ]
     },
     "metadata": {
      "needs_background": "light"
     },
     "output_type": "display_data"
    },
    {
     "data": {
      "image/png": "[encoded data removed]",
      "text/plain": [
       "<Figure size 432x288 with 1 Axes>"
      ]
     },
     "metadata": {
      "needs_background": "light"
     },
     "output_type": "display_data"
    }
   ],
   "source": [
    "# Distribuation of samples for each column\n",
    "for col in data:\n",
    "    data.hist(column=col)"
   ]
  },
  {
   "cell_type": "code",
   "execution_count": 43,
   "id": "2d1f5420",
   "metadata": {},
   "outputs": [
    {
     "data": {
      "text/html": [
       "<div>\n",
       "<style scoped>\n",
       "    .dataframe tbody tr th:only-of-type {\n",
       "        vertical-align: middle;\n",
       "    }\n",
       "\n",
       "    .dataframe tbody tr th {\n",
       "        vertical-align: top;\n",
       "    }\n",
       "\n",
       "    .dataframe thead th {\n",
       "        text-align: right;\n",
       "    }\n",
       "</style>\n",
       "<table border=\"1\" class=\"dataframe\">\n",
       "  <thead>\n",
       "    <tr style=\"text-align: right;\">\n",
       "      <th></th>\n",
       "      <th>500k</th>\n",
       "      <th>1k</th>\n",
       "      <th>2k</th>\n",
       "      <th>3k</th>\n",
       "      <th>4k</th>\n",
       "      <th>6k</th>\n",
       "      <th>8k</th>\n",
       "    </tr>\n",
       "  </thead>\n",
       "  <tbody>\n",
       "    <tr>\n",
       "      <th>500k</th>\n",
       "      <td>1.000000</td>\n",
       "      <td>0.759714</td>\n",
       "      <td>0.500383</td>\n",
       "      <td>0.262650</td>\n",
       "      <td>0.182404</td>\n",
       "      <td>0.207669</td>\n",
       "      <td>0.175852</td>\n",
       "    </tr>\n",
       "    <tr>\n",
       "      <th>1k</th>\n",
       "      <td>0.759714</td>\n",
       "      <td>1.000000</td>\n",
       "      <td>0.652560</td>\n",
       "      <td>0.338588</td>\n",
       "      <td>0.238134</td>\n",
       "      <td>0.249641</td>\n",
       "      <td>0.206952</td>\n",
       "    </tr>\n",
       "    <tr>\n",
       "      <th>2k</th>\n",
       "      <td>0.500383</td>\n",
       "      <td>0.652560</td>\n",
       "      <td>1.000000</td>\n",
       "      <td>0.592633</td>\n",
       "      <td>0.411922</td>\n",
       "      <td>0.366339</td>\n",
       "      <td>0.270308</td>\n",
       "    </tr>\n",
       "    <tr>\n",
       "      <th>3k</th>\n",
       "      <td>0.262650</td>\n",
       "      <td>0.338588</td>\n",
       "      <td>0.592633</td>\n",
       "      <td>1.000000</td>\n",
       "      <td>0.757014</td>\n",
       "      <td>0.562618</td>\n",
       "      <td>0.351380</td>\n",
       "    </tr>\n",
       "    <tr>\n",
       "      <th>4k</th>\n",
       "      <td>0.182404</td>\n",
       "      <td>0.238134</td>\n",
       "      <td>0.411922</td>\n",
       "      <td>0.757014</td>\n",
       "      <td>1.000000</td>\n",
       "      <td>0.693777</td>\n",
       "      <td>0.415482</td>\n",
       "    </tr>\n",
       "    <tr>\n",
       "      <th>6k</th>\n",
       "      <td>0.207669</td>\n",
       "      <td>0.249641</td>\n",
       "      <td>0.366339</td>\n",
       "      <td>0.562618</td>\n",
       "      <td>0.693777</td>\n",
       "      <td>1.000000</td>\n",
       "      <td>0.574710</td>\n",
       "    </tr>\n",
       "    <tr>\n",
       "      <th>8k</th>\n",
       "      <td>0.175852</td>\n",
       "      <td>0.206952</td>\n",
       "      <td>0.270308</td>\n",
       "      <td>0.351380</td>\n",
       "      <td>0.415482</td>\n",
       "      <td>0.574710</td>\n",
       "      <td>1.000000</td>\n",
       "    </tr>\n",
       "  </tbody>\n",
       "</table>\n",
       "</div>"
      ],
      "text/plain": [
       "          500k        1k        2k        3k        4k        6k        8k\n",
       "500k  1.000000  0.759714  0.500383  0.262650  0.182404  0.207669  0.175852\n",
       "1k    0.759714  1.000000  0.652560  0.338588  0.238134  0.249641  0.206952\n",
       "2k    0.500383  0.652560  1.000000  0.592633  0.411922  0.366339  0.270308\n",
       "3k    0.262650  0.338588  0.592633  1.000000  0.757014  0.562618  0.351380\n",
       "4k    0.182404  0.238134  0.411922  0.757014  1.000000  0.693777  0.415482\n",
       "6k    0.207669  0.249641  0.366339  0.562618  0.693777  1.000000  0.574710\n",
       "8k    0.175852  0.206952  0.270308  0.351380  0.415482  0.574710  1.000000"
      ]
     },
     "execution_count": 43,
     "metadata": {},
     "output_type": "execute_result"
    },
    {
     "data": {
      "image/png": "[encoded data removed]",
      "text/plain": [
       "<Figure size 432x288 with 2 Axes>"
      ]
     },
     "metadata": {
      "needs_background": "light"
     },
     "output_type": "display_data"
    }
   ],
   "source": [
    "# looking at correlation between variables\n",
    "sns.heatmap(data.corr())\n",
    "data.corr()"
   ]
  },
  {
   "cell_type": "markdown",
   "id": "fbe8d855",
   "metadata": {},
   "source": [
    "### Based on above plot, I decided to first predict 3k, and then 8k, 1k, and 500k for RegressorChain model"
   ]
  },
  {
   "cell_type": "code",
   "execution_count": 21,
   "id": "9118cf04",
   "metadata": {},
   "outputs": [],
   "source": [
    "# drop the duplicate data\n",
    "data =data.drop_duplicates()"
   ]
  },
  {
   "cell_type": "code",
   "execution_count": 22,
   "id": "dc2d83db",
   "metadata": {},
   "outputs": [],
   "source": [
    "# seperating data for train, and test, based on three inputs, and 4 outputs\n",
    "inputs = data.loc[:,[\"2k\", \"4k\", \"6k\"]]\n",
    "outputs = data.loc[:,[\"500k\", \"1k\", \"3k\", \"8k\"]]\n",
    "#Generate train and test datasets\n",
    "X_train, X_test, y_train, y_test = train_test_split(inputs, outputs, test_size=0.20, random_state=42)"
   ]
  },
  {
   "cell_type": "code",
   "execution_count": 23,
   "id": "83c5bd30",
   "metadata": {},
   "outputs": [],
   "source": [
    "# converting pandas dataframe to numpy array\n",
    "X_train = X_train.to_numpy()\n",
    "X_test = X_test.to_numpy()\n",
    "\n",
    "y_train = y_train.to_numpy()\n",
    "y_test = y_test.to_numpy()"
   ]
  },
  {
   "cell_type": "markdown",
   "id": "ae92d572",
   "metadata": {},
   "source": [
    "## Random Forest"
   ]
  },
  {
   "cell_type": "markdown",
   "id": "c7669a69",
   "metadata": {},
   "source": [
    "### The first model I implement for this dataset, is Random Forest. Since Random Forest could predict multi output, I will try to find the best paramter for simple Random Forest, and then use them to build a model with simple random forest, and using MultiOutputRegressor, and RegressorChain.\n"
   ]
  },
  {
   "cell_type": "markdown",
   "id": "2664b77f",
   "metadata": {},
   "source": [
    "### The MultiOutputRegressor predicts each output step by step, however RegressorChain use the previous output and use it to predict for next output "
   ]
  },
  {
   "cell_type": "code",
   "execution_count": null,
   "id": "c8e37f35",
   "metadata": {},
   "outputs": [],
   "source": [
    "#List Hyperparameters that we want to tune.\n",
    "\n",
    "para_grids = {\n",
    "            'max_depth': [10, 20, 50, 70, 80, 100, None],\n",
    "            \"n_estimators\" : [10,50,100],\n",
    "            \"max_features\" : [\"auto\", \"log2\", \"sqrt\"],\n",
    "            \"bootstrap\"    : [True, False]\n",
    "        }\n",
    "\n",
    "regr_rf = RandomForestRegressor()\n",
    "clf = GridSearchCV(regr_rf, para_grids, cv=3)\n",
    "model = clf.fit(X_train, y_train)"
   ]
  },
  {
   "cell_type": "code",
   "execution_count": 25,
   "id": "763a83dd",
   "metadata": {},
   "outputs": [
    {
     "name": "stdout",
     "output_type": "stream",
     "text": [
      "Best max_depth: 10\n",
      "Best n_estimators: 100\n",
      "Best max_features: log2\n",
      "Best bootstrap: True\n"
     ]
    }
   ],
   "source": [
    "#Print The value of best Hyperparameters\n",
    "print('Best max_depth:', model.best_estimator_.get_params()['max_depth'])\n",
    "print('Best n_estimators:', model.best_estimator_.get_params()['n_estimators'])\n",
    "print('Best max_features:', model.best_estimator_.get_params()['max_features'])\n",
    "print('Best bootstrap:', model.best_estimator_.get_params()['bootstrap'])"
   ]
  },
  {
   "cell_type": "code",
   "execution_count": 29,
   "id": "3dfb3f58",
   "metadata": {},
   "outputs": [
    {
     "data": {
      "text/plain": [
       "RegressorChain(base_estimator=RandomForestRegressor(max_depth=10,\n",
       "                                                    max_features='log2'),\n",
       "               order=[2, 3, 1, 0])"
      ]
     },
     "execution_count": 29,
     "metadata": {},
     "output_type": "execute_result"
    }
   ],
   "source": [
    "# After finding best hyperparamters for RF, we compare three models, based on Random Forest, base estimator.\n",
    "regr_multirf = MultiOutputRegressor(\n",
    "    RandomForestRegressor(n_estimators=100, max_depth=10, max_features='log2', bootstrap=True)\n",
    ")\n",
    "regr_multirf.fit(X_train, y_train)\n",
    "\n",
    "regr_rf = RandomForestRegressor(n_estimators=100, max_depth=10, max_features='log2', bootstrap=True)\n",
    "regr_rf.fit(X_train, y_train)\n",
    "\n",
    "regr_multirf_chain = RegressorChain(base_estimator=regr_rf, order=[2, 3, 1, 0])\n",
    "regr_multirf_chain.fit(X_train, y_train)"
   ]
  },
  {
   "cell_type": "code",
   "execution_count": 30,
   "id": "1eb5fb17",
   "metadata": {},
   "outputs": [],
   "source": [
    "# Predict on new data\n",
    "y_multirf = regr_multirf.predict(X_test)\n",
    "y_rf = regr_rf.predict(X_test)\n",
    "y_rf_chain = regr_multirf_chain.predict(X_test)"
   ]
  },
  {
   "cell_type": "code",
   "execution_count": 31,
   "id": "24418ca8",
   "metadata": {},
   "outputs": [
    {
     "name": "stdout",
     "output_type": "stream",
     "text": [
      "MSE for first regressor: 65.76038184939344 - second regressor: 64.2380234592656 - third regressor: 124.29559504479842 -       fourth regressor: 481.98858687911803\n",
      "MAE for first regressor: 6.23889122269855 - second regressor: 6.104907205009603 - third regressor: 8.780404169048035 -       fourth regressor: 15.809037274020664\n",
      "\n",
      "MSE for first regressor: 65.80632744643154 - second regressor: 64.33467740217132 - third regressor: 124.34169897007344 -       fourth regressor: 482.334677680068\n",
      "MAE for first regressor: 6.235854901813351 - second regressor: 6.104123216688307 - third regressor: 8.782517435366811 -       fourth regressor: 15.843165057183077\n",
      "MSE for first regressor: 66.68974552556769 - second regressor: 64.5632144260459 - third regressor: 124.28936506933842 -       fourth regressor: 482.03934443981507\n",
      "MAE for first regressor: 6.287060987024394 - second regressor: 6.107578171775029 - third regressor: 8.778494952560665 -       fourth regressor: 15.887503755001585\n"
     ]
    }
   ],
   "source": [
    "# Evaluate the regressor for three models\n",
    "mse_one = mean_squared_error(y_test[:,0], y_rf[:,0])\n",
    "mse_two = mean_squared_error(y_test[:,1], y_rf[:,1])\n",
    "mse_three = mean_squared_error(y_test[:,2], y_rf[:,2])\n",
    "mse_four = mean_squared_error(y_test[:,3], y_rf[:,3])\n",
    "print(f'MSE for first regressor: {mse_one} - second regressor: {mse_two} - third regressor: {mse_three} - \\\n",
    "      fourth regressor: {mse_four}')\n",
    "mae_one = mean_absolute_error(y_test[:,0], y_rf[:,0])\n",
    "mae_two = mean_absolute_error(y_test[:,1], y_rf[:,1])\n",
    "mae_three = mean_absolute_error(y_test[:,2], y_rf[:,2])\n",
    "mae_four = mean_absolute_error(y_test[:,3], y_rf[:,3])\n",
    "print(f'MAE for first regressor: {mae_one} - second regressor: {mae_two} - third regressor: {mae_three} - \\\n",
    "      fourth regressor: {mae_four}')\n",
    "print()\n",
    "mse_one = mean_squared_error(y_test[:,0], y_multirf[:,0])\n",
    "mse_two = mean_squared_error(y_test[:,1], y_multirf[:,1])\n",
    "mse_three = mean_squared_error(y_test[:,2], y_multirf[:,2])\n",
    "mse_four = mean_squared_error(y_test[:,3], y_multirf[:,3])\n",
    "print(f'MSE for first regressor: {mse_one} - second regressor: {mse_two} - third regressor: {mse_three} - \\\n",
    "      fourth regressor: {mse_four}')\n",
    "mae_one = mean_absolute_error(y_test[:,0], y_multirf[:,0])\n",
    "mae_two = mean_absolute_error(y_test[:,1], y_multirf[:,1])\n",
    "mae_three = mean_absolute_error(y_test[:,2], y_multirf[:,2])\n",
    "mae_four = mean_absolute_error(y_test[:,3], y_multirf[:,3])\n",
    "print(f'MAE for first regressor: {mae_one} - second regressor: {mae_two} - third regressor: {mae_three} - \\\n",
    "      fourth regressor: {mae_four}')\n",
    "print()\n",
    "mse_one = mean_squared_error(y_test[:,0], y_rf_chain[:,0])\n",
    "mse_two = mean_squared_error(y_test[:,1], y_rf_chain[:,1])\n",
    "mse_three = mean_squared_error(y_test[:,2], y_rf_chain[:,2])\n",
    "mse_four = mean_squared_error(y_test[:,3], y_rf_chain[:,3])\n",
    "print(f'MSE for first regressor: {mse_one} - second regressor: {mse_two} - third regressor: {mse_three} - \\\n",
    "      fourth regressor: {mse_four}')\n",
    "mae_one = mean_absolute_error(y_test[:,0], y_rf_chain[:,0])\n",
    "mae_two = mean_absolute_error(y_test[:,1], y_rf_chain[:,1])\n",
    "mae_three = mean_absolute_error(y_test[:,2], y_rf_chain[:,2])\n",
    "mae_four = mean_absolute_error(y_test[:,3], y_rf_chain[:,3])\n",
    "print(f'MAE for first regressor: {mae_one} - second regressor: {mae_two} - third regressor: {mae_three} - \\\n",
    "      fourth regressor: {mae_four}')"
   ]
  },
  {
   "cell_type": "markdown",
   "id": "60b9fabb",
   "metadata": {},
   "source": [
    "#### I will not tune the model for other algorithms, since all of them have aproximately same MAE."
   ]
  },
  {
   "cell_type": "markdown",
   "id": "5272e07e",
   "metadata": {},
   "source": [
    "## SVR regressor"
   ]
  },
  {
   "cell_type": "code",
   "execution_count": 33,
   "id": "fd159c66",
   "metadata": {},
   "outputs": [
    {
     "data": {
      "text/plain": [
       "RegressorChain(base_estimator=SGDRegressor(), order=[2, 3, 1, 0])"
      ]
     },
     "execution_count": 33,
     "metadata": {},
     "output_type": "execute_result"
    }
   ],
   "source": [
    "#I will use regressorchain here\n",
    "from sklearn.linear_model import SGDRegressor\n",
    "# Create the SVR regressor\n",
    "svr = SGDRegressor()\n",
    "\n",
    "# Create the Multioutput Regressor\n",
    "mor = MultiOutputRegressor(svr)\n",
    "mor.fit(X_train, y_train)\n",
    "\n",
    "mor_chain = RegressorChain(base_estimator=svr, order=[2, 3, 1, 0])\n",
    "mor_chain.fit(X_train, y_train)"
   ]
  },
  {
   "cell_type": "code",
   "execution_count": 34,
   "id": "727fe822",
   "metadata": {},
   "outputs": [],
   "source": [
    "# Generate predictions for testing data\n",
    "y_pred = mor.predict(X_test)\n",
    "\n",
    "y_pred_chain = mor_chain.predict(X_test)"
   ]
  },
  {
   "cell_type": "code",
   "execution_count": 35,
   "id": "b39f7142",
   "metadata": {},
   "outputs": [
    {
     "name": "stdout",
     "output_type": "stream",
     "text": [
      "MSE for first regressor: 68.76817997089732 - second regressor: 68.58937375677453 - third regressor: 132.8749531188897 -       fourth regressor: 557.6895728812348\n",
      "MAE for first regressor: 6.351031621812353 - second regressor: 6.2916678980673915 - third regressor: 9.07100104355911 -       fourth regressor: 17.771535115118116\n"
     ]
    }
   ],
   "source": [
    "# Evaluate the regressor for the Multioutput Regressor\n",
    "mse_one = mean_squared_error(y_test[:,0], y_pred[:,0])\n",
    "mse_two = mean_squared_error(y_test[:,1], y_pred[:,1])\n",
    "mse_three = mean_squared_error(y_test[:,2], y_pred[:,2])\n",
    "mse_four = mean_squared_error(y_test[:,3], y_pred[:,3])\n",
    "print(f'MSE for first regressor: {mse_one} - second regressor: {mse_two} - third regressor: {mse_three} - \\\n",
    "      fourth regressor: {mse_four}')\n",
    "mae_one = mean_absolute_error(y_test[:,0], y_pred[:,0])\n",
    "mae_two = mean_absolute_error(y_test[:,1], y_pred[:,1])\n",
    "mae_three = mean_absolute_error(y_test[:,2], y_pred[:,2])\n",
    "mae_four = mean_absolute_error(y_test[:,3], y_pred[:,3])\n",
    "print(f'MAE for first regressor: {mae_one} - second regressor: {mae_two} - third regressor: {mae_three} - \\\n",
    "      fourth regressor: {mae_four}')"
   ]
  },
  {
   "cell_type": "code",
   "execution_count": 36,
   "id": "8e4296f2",
   "metadata": {},
   "outputs": [
    {
     "name": "stdout",
     "output_type": "stream",
     "text": [
      "MSE for first regressor: 83.57616932847408 - second regressor: 72.37877174746119 - third regressor: 223.04229832086176 -       fourth regressor: 785.062282240609\n",
      "MAE for first regressor: 6.991559490859963 - second regressor: 6.507876878797069 - third regressor: 11.904751649991834 -       fourth regressor: 23.094793584209505\n"
     ]
    }
   ],
   "source": [
    "# Evaluate the regressor for the regressorchain\n",
    "mse_one = mean_squared_error(y_test[:,0], y_pred_chain[:,0])\n",
    "mse_two = mean_squared_error(y_test[:,1], y_pred_chain[:,1])\n",
    "mse_three = mean_squared_error(y_test[:,2], y_pred_chain[:,2])\n",
    "mse_four = mean_squared_error(y_test[:,3], y_pred_chain[:,3])\n",
    "print(f'MSE for first regressor: {mse_one} - second regressor: {mse_two} - third regressor: {mse_three} - \\\n",
    "      fourth regressor: {mse_four}')\n",
    "mae_one = mean_absolute_error(y_test[:,0], y_pred_chain[:,0])\n",
    "mae_two = mean_absolute_error(y_test[:,1], y_pred_chain[:,1])\n",
    "mae_three = mean_absolute_error(y_test[:,2], y_pred_chain[:,2])\n",
    "mae_four = mean_absolute_error(y_test[:,3], y_pred_chain[:,3])\n",
    "print(f'MAE for first regressor: {mae_one} - second regressor: {mae_two} - third regressor: {mae_three} - \\\n",
    "      fourth regressor: {mae_four}')"
   ]
  },
  {
   "cell_type": "markdown",
   "id": "8520f128",
   "metadata": {},
   "source": [
    "## Gradient Boosting Regressor"
   ]
  },
  {
   "cell_type": "code",
   "execution_count": 37,
   "id": "4ac475a2",
   "metadata": {},
   "outputs": [
    {
     "data": {
      "text/plain": [
       "RegressorChain(base_estimator=GradientBoostingRegressor(random_state=0),\n",
       "               order=[2, 3, 1, 0])"
      ]
     },
     "execution_count": 37,
     "metadata": {},
     "output_type": "execute_result"
    }
   ],
   "source": [
    "from sklearn.ensemble import GradientBoostingRegressor\n",
    "GBR = GradientBoostingRegressor(random_state=0)\n",
    "chain = RegressorChain(base_estimator=GBR, order=[2, 3, 1, 0])\n",
    "chain.fit(X_train, y_train)"
   ]
  },
  {
   "cell_type": "code",
   "execution_count": null,
   "id": "87ff1299",
   "metadata": {},
   "outputs": [],
   "source": [
    "# Generate predictions for testing data\n",
    "y_pred = chain.predict(X_test)"
   ]
  },
  {
   "cell_type": "code",
   "execution_count": 38,
   "id": "d21bbac4",
   "metadata": {},
   "outputs": [
    {
     "name": "stdout",
     "output_type": "stream",
     "text": [
      "MSE for first regressor: 68.76817997089732 - second regressor: 68.58937375677453 - third regressor: 132.8749531188897 -       fourth regressor: 557.6895728812348\n",
      "MAE for first regressor: 6.351031621812353 - second regressor: 6.2916678980673915 - third regressor: 9.07100104355911 -       fourth regressor: 17.771535115118116\n"
     ]
    }
   ],
   "source": [
    "# Evaluate the regressor\n",
    "mse_one = mean_squared_error(y_test[:,0], y_pred[:,0])\n",
    "mse_two = mean_squared_error(y_test[:,1], y_pred[:,1])\n",
    "mse_three = mean_squared_error(y_test[:,2], y_pred[:,2])\n",
    "mse_four = mean_squared_error(y_test[:,3], y_pred[:,3])\n",
    "print(f'MSE for first regressor: {mse_one} - second regressor: {mse_two} - third regressor: {mse_three} - \\\n",
    "      fourth regressor: {mse_four}')\n",
    "mae_one = mean_absolute_error(y_test[:,0], y_pred[:,0])\n",
    "mae_two = mean_absolute_error(y_test[:,1], y_pred[:,1])\n",
    "mae_three = mean_absolute_error(y_test[:,2], y_pred[:,2])\n",
    "mae_four = mean_absolute_error(y_test[:,3], y_pred[:,3])\n",
    "print(f'MAE for first regressor: {mae_one} - second regressor: {mae_two} - third regressor: {mae_three} - \\\n",
    "      fourth regressor: {mae_four}')"
   ]
  },
  {
   "cell_type": "markdown",
   "id": "9d492edb",
   "metadata": {},
   "source": [
    "## KNN with tuning hyper paramters and comparing two models based on KNN algorithm, KNeighborsRegressor and RegressorChain"
   ]
  },
  {
   "cell_type": "code",
   "execution_count": 9,
   "id": "4e753701",
   "metadata": {},
   "outputs": [],
   "source": [
    "from sklearn.neighbors import KNeighborsRegressor\n",
    "#List Hyperparameters that we want to tune.\n",
    "grid_params = { 'n_neighbors' : [3,5,7,9,11,13],\n",
    "               'weights' : ['uniform','distance'],\n",
    "               'metric' : ['minkowski','euclidean','manhattan']}\n",
    "\n",
    "knn_2 = KNeighborsRegressor()\n",
    "clf = GridSearchCV(knn_2, grid_params, cv=3)\n",
    "model = clf.fit(X_train, y_train)"
   ]
  },
  {
   "cell_type": "code",
   "execution_count": 13,
   "id": "758e871a",
   "metadata": {},
   "outputs": [
    {
     "name": "stdout",
     "output_type": "stream",
     "text": [
      "Best n_neighbors: 13\n",
      "Best weights: uniform\n",
      "Best metric: manhattan\n"
     ]
    }
   ],
   "source": [
    "#Print The value of best Hyperparameters\n",
    "print('Best n_neighbors:', clf.best_estimator_.get_params()['n_neighbors'])\n",
    "print('Best weights:', clf.best_estimator_.get_params()['weights'])\n",
    "print('Best metric:', clf.best_estimator_.get_params()['metric'])"
   ]
  },
  {
   "cell_type": "code",
   "execution_count": 16,
   "id": "2e3c9cc1",
   "metadata": {},
   "outputs": [],
   "source": [
    "knn_2 = KNeighborsRegressor(n_neighbors=13, weights= 'uniform', metric='manhattan')\n",
    "\n",
    "chain2 = RegressorChain(base_estimator=knn_2, order=[2, 3, 1, 0]).fit(X_train, y_train)\n",
    "#Fit the model\n",
    "y_pred = chain2.predict(X_test)"
   ]
  },
  {
   "cell_type": "code",
   "execution_count": 17,
   "id": "7c91492c",
   "metadata": {},
   "outputs": [
    {
     "name": "stdout",
     "output_type": "stream",
     "text": [
      "MSE for first regressor: 70.62096201261225 - second regressor: 68.70606645188687 - third regressor: 133.45473404668817 -       fourth regressor: 523.5212742712456\n",
      "MAE for first regressor: 6.435302513909521 - second regressor: 6.278144515625946 - third regressor: 9.057049396077625 -       fourth regressor: 16.809374745580286\n"
     ]
    }
   ],
   "source": [
    "# Evaluate the knnregressor with best parameters\n",
    "mse_one = mean_squared_error(y_test[:,0], y_pred[:,0])\n",
    "mse_two = mean_squared_error(y_test[:,1], y_pred[:,1])\n",
    "mse_three = mean_squared_error(y_test[:,2], y_pred[:,2])\n",
    "mse_four = mean_squared_error(y_test[:,3], y_pred[:,3])\n",
    "print(f'MSE for first regressor: {mse_one} - second regressor: {mse_two} - third regressor: {mse_three} - \\\n",
    "      fourth regressor: {mse_four}')\n",
    "mae_one = mean_absolute_error(y_test[:,0], y_pred[:,0])\n",
    "mae_two = mean_absolute_error(y_test[:,1], y_pred[:,1])\n",
    "mae_three = mean_absolute_error(y_test[:,2], y_pred[:,2])\n",
    "mae_four = mean_absolute_error(y_test[:,3], y_pred[:,3])\n",
    "print(f'MAE for first regressor: {mae_one} - second regressor: {mae_two} - third regressor: {mae_three} - \\\n",
    "      fourth regressor: {mae_four}')"
   ]
  },
  {
   "cell_type": "code",
   "execution_count": null,
   "id": "23863f9f",
   "metadata": {},
   "outputs": [],
   "source": []
  },
  {
   "cell_type": "code",
   "execution_count": null,
   "id": "821f1dab",
   "metadata": {},
   "outputs": [],
   "source": []
  }
 ],
 "metadata": {
  "kernelspec": {
   "display_name": "Python 3 (ipykernel)",
   "language": "python",
   "name": "python3"
  },
  "language_info": {
   "codemirror_mode": {
    "name": "ipython",
    "version": 3
   },
   "file_extension": ".py",
   "mimetype": "text/x-python",
   "name": "python",
   "nbconvert_exporter": "python",
   "pygments_lexer": "ipython3",
   "version": "3.7.6"
  }
 },
 "nbformat": 4,
 "nbformat_minor": 5
}
