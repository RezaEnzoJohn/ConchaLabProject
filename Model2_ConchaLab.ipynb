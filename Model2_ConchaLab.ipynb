{
 "cells": [
  {
   "cell_type": "code",
   "execution_count": 197,
   "id": "938c52e9",
   "metadata": {},
   "outputs": [],
   "source": [
    "# importing some useful libraries for the first part of project\n",
    "import numpy as np\n",
    "import scipy\n",
    "import pandas as pd\n",
    "import math\n",
    "import random\n",
    "import pickle\n",
    "import seaborn as sns\n",
    "\n",
    "from sklearn.multioutput import RegressorChain\n",
    "from sklearn.neighbors import KNeighborsRegressor\n",
    "from sklearn.metrics import mean_squared_error, mean_absolute_error\n",
    "from sklearn.ensemble import RandomForestRegressor\n",
    "from sklearn.model_selection import train_test_split\n",
    "from sklearn.multioutput import MultiOutputRegressor\n",
    "from sklearn.model_selection import GridSearchCV\n",
    "from sklearn import metrics\n",
    "import matplotlib.pyplot as plt"
   ]
  },
  {
   "cell_type": "code",
   "execution_count": 198,
   "id": "72ff0678",
   "metadata": {},
   "outputs": [
    {
     "name": "stderr",
     "output_type": "stream",
     "text": [
      "C:\\Users\\gjaha\\anaconda3\\envs\\cv\\lib\\site-packages\\IPython\\core\\interactiveshell.py:3186: DtypeWarning: Columns (2,3,4,5,6,7,8,9,10,11,12,13,14,15) have mixed types.Specify dtype option on import or set low_memory=False.\n",
      "  interactivity=interactivity, compiler=compiler, result=result)\n"
     ]
    },
    {
     "name": "stdout",
     "output_type": "stream",
     "text": [
      "(5889340, 7)\n"
     ]
    },
    {
     "data": {
      "text/html": [
       "<div>\n",
       "<style scoped>\n",
       "    .dataframe tbody tr th:only-of-type {\n",
       "        vertical-align: middle;\n",
       "    }\n",
       "\n",
       "    .dataframe tbody tr th {\n",
       "        vertical-align: top;\n",
       "    }\n",
       "\n",
       "    .dataframe thead th {\n",
       "        text-align: right;\n",
       "    }\n",
       "</style>\n",
       "<table border=\"1\" class=\"dataframe\">\n",
       "  <thead>\n",
       "    <tr style=\"text-align: right;\">\n",
       "      <th></th>\n",
       "      <th>500k</th>\n",
       "      <th>1k</th>\n",
       "      <th>2k</th>\n",
       "      <th>3k</th>\n",
       "      <th>4k</th>\n",
       "      <th>6k</th>\n",
       "      <th>8k</th>\n",
       "    </tr>\n",
       "  </thead>\n",
       "  <tbody>\n",
       "    <tr>\n",
       "      <th>0</th>\n",
       "      <td>10</td>\n",
       "      <td>5</td>\n",
       "      <td>5</td>\n",
       "      <td>15</td>\n",
       "      <td>10</td>\n",
       "      <td>5</td>\n",
       "      <td>25</td>\n",
       "    </tr>\n",
       "    <tr>\n",
       "      <th>1</th>\n",
       "      <td>15</td>\n",
       "      <td>10</td>\n",
       "      <td>5</td>\n",
       "      <td>15</td>\n",
       "      <td>5</td>\n",
       "      <td>10</td>\n",
       "      <td>25</td>\n",
       "    </tr>\n",
       "    <tr>\n",
       "      <th>2</th>\n",
       "      <td>5</td>\n",
       "      <td>10</td>\n",
       "      <td>20</td>\n",
       "      <td>20</td>\n",
       "      <td>15</td>\n",
       "      <td>20</td>\n",
       "      <td>0</td>\n",
       "    </tr>\n",
       "    <tr>\n",
       "      <th>3</th>\n",
       "      <td>15</td>\n",
       "      <td>5</td>\n",
       "      <td>15</td>\n",
       "      <td>20</td>\n",
       "      <td>20</td>\n",
       "      <td>15</td>\n",
       "      <td>15</td>\n",
       "    </tr>\n",
       "    <tr>\n",
       "      <th>4</th>\n",
       "      <td>25</td>\n",
       "      <td>20</td>\n",
       "      <td>15</td>\n",
       "      <td>20</td>\n",
       "      <td>35</td>\n",
       "      <td>25</td>\n",
       "      <td>15</td>\n",
       "    </tr>\n",
       "    <tr>\n",
       "      <th>5</th>\n",
       "      <td>15</td>\n",
       "      <td>20</td>\n",
       "      <td>30</td>\n",
       "      <td>30</td>\n",
       "      <td>40</td>\n",
       "      <td>60</td>\n",
       "      <td>45</td>\n",
       "    </tr>\n",
       "    <tr>\n",
       "      <th>6</th>\n",
       "      <td>10</td>\n",
       "      <td>15</td>\n",
       "      <td>35</td>\n",
       "      <td>25</td>\n",
       "      <td>25</td>\n",
       "      <td>70</td>\n",
       "      <td>50</td>\n",
       "    </tr>\n",
       "    <tr>\n",
       "      <th>7</th>\n",
       "      <td>25</td>\n",
       "      <td>25</td>\n",
       "      <td>35</td>\n",
       "      <td>60</td>\n",
       "      <td>80</td>\n",
       "      <td>90</td>\n",
       "      <td>85</td>\n",
       "    </tr>\n",
       "    <tr>\n",
       "      <th>8</th>\n",
       "      <td>10</td>\n",
       "      <td>10</td>\n",
       "      <td>10</td>\n",
       "      <td>40</td>\n",
       "      <td>45</td>\n",
       "      <td>35</td>\n",
       "      <td>0</td>\n",
       "    </tr>\n",
       "    <tr>\n",
       "      <th>9</th>\n",
       "      <td>10</td>\n",
       "      <td>5</td>\n",
       "      <td>10</td>\n",
       "      <td>45</td>\n",
       "      <td>45</td>\n",
       "      <td>35</td>\n",
       "      <td>20</td>\n",
       "    </tr>\n",
       "  </tbody>\n",
       "</table>\n",
       "</div>"
      ],
      "text/plain": [
       "  500k  1k  2k  3k  4k  6k  8k\n",
       "0   10   5   5  15  10   5  25\n",
       "1   15  10   5  15   5  10  25\n",
       "2    5  10  20  20  15  20   0\n",
       "3   15   5  15  20  20  15  15\n",
       "4   25  20  15  20  35  25  15\n",
       "5   15  20  30  30  40  60  45\n",
       "6   10  15  35  25  25  70  50\n",
       "7   25  25  35  60  80  90  85\n",
       "8   10  10  10  40  45  35   0\n",
       "9   10   5  10  45  45  35  20"
      ]
     },
     "execution_count": 198,
     "metadata": {},
     "output_type": "execute_result"
    }
   ],
   "source": [
    "# Load the data from local computer, and drop redundant features.\n",
    "df = pd.read_csv('Paper3_WebData_Final.csv')\n",
    "df = df.drop(['test_date','nid','gender','naics', 'age_group','region','NAICS_descr'], axis=1)\n",
    "df_L = df.drop(['R500k','R1k','R2k','R3k', 'R4k', 'R6k', 'R8k'], axis=1)\n",
    "df_R = df.drop(['L500k','L1k','L2k','L3k', 'L4k', 'L6k', 'L8k'], axis=1)\n",
    "\n",
    "# Seperating left and right ears data so that we could use them for creating model.\n",
    "df_L.columns = ['500k','1k','2k','3k', '4k', '6k', '8k']\n",
    "df_R.columns = ['500k','1k','2k','3k', '4k', '6k', '8k']\n",
    "data = pd.concat([df_L, df_R], axis=0)\n",
    "data =data.reset_index(drop=True)\n",
    "# showing data\n",
    "print(data.shape)\n",
    "data.head(10)"
   ]
  },
  {
   "cell_type": "code",
   "execution_count": 199,
   "id": "7d56b14a",
   "metadata": {},
   "outputs": [
    {
     "name": "stdout",
     "output_type": "stream",
     "text": [
      "(4313298, 7)\n"
     ]
    },
    {
     "data": {
      "text/html": [
       "<div>\n",
       "<style scoped>\n",
       "    .dataframe tbody tr th:only-of-type {\n",
       "        vertical-align: middle;\n",
       "    }\n",
       "\n",
       "    .dataframe tbody tr th {\n",
       "        vertical-align: top;\n",
       "    }\n",
       "\n",
       "    .dataframe thead th {\n",
       "        text-align: right;\n",
       "    }\n",
       "</style>\n",
       "<table border=\"1\" class=\"dataframe\">\n",
       "  <thead>\n",
       "    <tr style=\"text-align: right;\">\n",
       "      <th></th>\n",
       "      <th>500k</th>\n",
       "      <th>1k</th>\n",
       "      <th>2k</th>\n",
       "      <th>3k</th>\n",
       "      <th>4k</th>\n",
       "      <th>6k</th>\n",
       "      <th>8k</th>\n",
       "    </tr>\n",
       "  </thead>\n",
       "  <tbody>\n",
       "    <tr>\n",
       "      <th>0</th>\n",
       "      <td>10.0</td>\n",
       "      <td>5.0</td>\n",
       "      <td>5.0</td>\n",
       "      <td>15.0</td>\n",
       "      <td>10.0</td>\n",
       "      <td>5.0</td>\n",
       "      <td>25.0</td>\n",
       "    </tr>\n",
       "    <tr>\n",
       "      <th>1</th>\n",
       "      <td>15.0</td>\n",
       "      <td>10.0</td>\n",
       "      <td>5.0</td>\n",
       "      <td>15.0</td>\n",
       "      <td>5.0</td>\n",
       "      <td>10.0</td>\n",
       "      <td>25.0</td>\n",
       "    </tr>\n",
       "    <tr>\n",
       "      <th>2</th>\n",
       "      <td>5.0</td>\n",
       "      <td>10.0</td>\n",
       "      <td>20.0</td>\n",
       "      <td>20.0</td>\n",
       "      <td>15.0</td>\n",
       "      <td>20.0</td>\n",
       "      <td>0.0</td>\n",
       "    </tr>\n",
       "    <tr>\n",
       "      <th>3</th>\n",
       "      <td>15.0</td>\n",
       "      <td>5.0</td>\n",
       "      <td>15.0</td>\n",
       "      <td>20.0</td>\n",
       "      <td>20.0</td>\n",
       "      <td>15.0</td>\n",
       "      <td>15.0</td>\n",
       "    </tr>\n",
       "    <tr>\n",
       "      <th>4</th>\n",
       "      <td>25.0</td>\n",
       "      <td>20.0</td>\n",
       "      <td>15.0</td>\n",
       "      <td>20.0</td>\n",
       "      <td>35.0</td>\n",
       "      <td>25.0</td>\n",
       "      <td>15.0</td>\n",
       "    </tr>\n",
       "  </tbody>\n",
       "</table>\n",
       "</div>"
      ],
      "text/plain": [
       "   500k    1k    2k    3k    4k    6k    8k\n",
       "0  10.0   5.0   5.0  15.0  10.0   5.0  25.0\n",
       "1  15.0  10.0   5.0  15.0   5.0  10.0  25.0\n",
       "2   5.0  10.0  20.0  20.0  15.0  20.0   0.0\n",
       "3  15.0   5.0  15.0  20.0  20.0  15.0  15.0\n",
       "4  25.0  20.0  15.0  20.0  35.0  25.0  15.0"
      ]
     },
     "execution_count": 199,
     "metadata": {},
     "output_type": "execute_result"
    }
   ],
   "source": [
    "# cleaning data, removing nan values, and '**', and converting object type to int.\n",
    "data.isnull().sum()/data.shape[0]\n",
    "data = data.replace('**',np.nan)\n",
    "data = data.dropna()\n",
    "data.isnull().sum()\n",
    "data=data.astype(float)\n",
    "\n",
    "# showing data\n",
    "print(data.shape)\n",
    "data.head()"
   ]
  },
  {
   "cell_type": "code",
   "execution_count": 200,
   "id": "bbaf372e",
   "metadata": {},
   "outputs": [
    {
     "data": {
      "image/png": "[encoded data removed]",
      "text/plain": [
       "<Figure size 432x288 with 1 Axes>"
      ]
     },
     "metadata": {
      "needs_background": "light"
     },
     "output_type": "display_data"
    },
    {
     "data": {
      "image/png": "[encoded data removed]",
      "text/plain": [
       "<Figure size 432x288 with 1 Axes>"
      ]
     },
     "metadata": {
      "needs_background": "light"
     },
     "output_type": "display_data"
    },
    {
     "data": {
      "image/png": "[encoded data removed]",
      "text/plain": [
       "<Figure size 432x288 with 1 Axes>"
      ]
     },
     "metadata": {
      "needs_background": "light"
     },
     "output_type": "display_data"
    },
    {
     "data": {
      "image/png": "[encoded data removed]",
      "text/plain": [
       "<Figure size 432x288 with 1 Axes>"
      ]
     },
     "metadata": {
      "needs_background": "light"
     },
     "output_type": "display_data"
    },
    {
     "data": {
      "image/png": "[encoded data removed]",
      "text/plain": [
       "<Figure size 432x288 with 1 Axes>"
      ]
     },
     "metadata": {
      "needs_background": "light"
     },
     "output_type": "display_data"
    },
    {
     "data": {
      "image/png": "[encoded data removed]",
      "text/plain": [
       "<Figure size 432x288 with 1 Axes>"
      ]
     },
     "metadata": {
      "needs_background": "light"
     },
     "output_type": "display_data"
    },
    {
     "data": {
      "image/png": "[encoded data removed]",
      "text/plain": [
       "<Figure size 432x288 with 1 Axes>"
      ]
     },
     "metadata": {
      "needs_background": "light"
     },
     "output_type": "display_data"
    }
   ],
   "source": [
    "# Distribuation of samples for each column before removing duplicates\n",
    "for col in data:\n",
    "    data.hist(column=col)"
   ]
  },
  {
   "cell_type": "code",
   "execution_count": 201,
   "id": "0adefa1c",
   "metadata": {},
   "outputs": [
    {
     "name": "stdout",
     "output_type": "stream",
     "text": [
      "(1029866, 7)\n"
     ]
    },
    {
     "data": {
      "image/png": "[encoded data removed]",
      "text/plain": [
       "<Figure size 432x288 with 1 Axes>"
      ]
     },
     "metadata": {
      "needs_background": "light"
     },
     "output_type": "display_data"
    },
    {
     "data": {
      "image/png": "[encoded data removed]",
      "text/plain": [
       "<Figure size 432x288 with 1 Axes>"
      ]
     },
     "metadata": {
      "needs_background": "light"
     },
     "output_type": "display_data"
    },
    {
     "data": {
      "image/png": "[encoded data removed]",
      "text/plain": [
       "<Figure size 432x288 with 1 Axes>"
      ]
     },
     "metadata": {
      "needs_background": "light"
     },
     "output_type": "display_data"
    },
    {
     "data": {
      "image/png": "[encoded data removed]",
      "text/plain": [
       "<Figure size 432x288 with 1 Axes>"
      ]
     },
     "metadata": {
      "needs_background": "light"
     },
     "output_type": "display_data"
    },
    {
     "data": {
      "image/png": "[encoded data removed]",
      "text/plain": [
       "<Figure size 432x288 with 1 Axes>"
      ]
     },
     "metadata": {
      "needs_background": "light"
     },
     "output_type": "display_data"
    },
    {
     "data": {
      "image/png": "[encoded data removed]",
      "text/plain": [
       "<Figure size 432x288 with 1 Axes>"
      ]
     },
     "metadata": {
      "needs_background": "light"
     },
     "output_type": "display_data"
    },
    {
     "data": {
      "image/png": "[encoded data removed]",
      "text/plain": [
       "<Figure size 432x288 with 1 Axes>"
      ]
     },
     "metadata": {
      "needs_background": "light"
     },
     "output_type": "display_data"
    }
   ],
   "source": [
    "# Distribuation of samples for each column before removing duplicates\n",
    "# drop the duplicate data\n",
    "df = data.copy()\n",
    "df =df.drop_duplicates()\n",
    "print(df.shape)\n",
    "for col in df:\n",
    "    df.hist(column=col)"
   ]
  },
  {
   "cell_type": "markdown",
   "id": "06aaaeb3",
   "metadata": {},
   "source": [
    "### Since there is a difference between distribution of these two datasets, we would consider dataset without duplicates."
   ]
  },
  {
   "cell_type": "markdown",
   "id": "d12df285",
   "metadata": {},
   "source": [
    "### Here I want to remove duplicates,first by considering all columns, and  removing backward, which means removing duplicates based on 7 features, and removing based on 6 features, and so on."
   ]
  },
  {
   "cell_type": "code",
   "execution_count": 202,
   "id": "7c9f34e6",
   "metadata": {},
   "outputs": [
    {
     "name": "stdout",
     "output_type": "stream",
     "text": [
      "(1029866, 7)\n"
     ]
    }
   ],
   "source": [
    "print(df.shape)"
   ]
  },
  {
   "cell_type": "code",
   "execution_count": 203,
   "id": "18a30271",
   "metadata": {},
   "outputs": [
    {
     "data": {
      "text/plain": [
       "((823892, 7), (205974, 7), (1029866, 7))"
      ]
     },
     "execution_count": 203,
     "metadata": {},
     "output_type": "execute_result"
    }
   ],
   "source": [
    "#Generate train and test datasets\n",
    "df_train, df_test= train_test_split(df, test_size=0.20, random_state=42)\n",
    "\n",
    "df_train.shape, df_test.shape, df.shape"
   ]
  },
  {
   "cell_type": "markdown",
   "id": "6b89da77",
   "metadata": {},
   "source": [
    "### These are steps to create datset for each of four models I want to use and build."
   ]
  },
  {
   "cell_type": "code",
   "execution_count": 205,
   "id": "9daaed22",
   "metadata": {},
   "outputs": [
    {
     "name": "stdout",
     "output_type": "stream",
     "text": [
      "328717\n"
     ]
    }
   ],
   "source": [
    "df_train_8k = df_train.drop('8k',axis=1)\n",
    "df_train_8k =df_train_8k.drop_duplicates()\n",
    "df_train_8k.shape\n",
    "val_index_8k = list(df_train_8k.index.values.tolist())\n",
    "pd.Series(val_index_8k).value_counts()\n",
    "print(len(val_index_8k))"
   ]
  },
  {
   "cell_type": "code",
   "execution_count": 207,
   "id": "56fd8d4c",
   "metadata": {},
   "outputs": [],
   "source": [
    "df_8k = df_train.loc[val_index_8k]"
   ]
  },
  {
   "cell_type": "code",
   "execution_count": 208,
   "id": "9c467e65",
   "metadata": {},
   "outputs": [
    {
     "name": "stdout",
     "output_type": "stream",
     "text": [
      "(99453, 5)\n",
      "99453\n"
     ]
    }
   ],
   "source": [
    "df_train_3k = df_train_8k.drop('3k',axis=1)\n",
    "df_train_3k =df_train_3k.drop_duplicates()\n",
    "print(df_train_3k.shape)\n",
    "val_index_3k = list(df_train_3k.index.values.tolist())\n",
    "print(len(val_index_3k))"
   ]
  },
  {
   "cell_type": "code",
   "execution_count": 209,
   "id": "aba5c383",
   "metadata": {},
   "outputs": [],
   "source": [
    "df_3k = df_train.loc[val_index_3k]"
   ]
  },
  {
   "cell_type": "code",
   "execution_count": 210,
   "id": "1e14a679",
   "metadata": {},
   "outputs": [
    {
     "name": "stdout",
     "output_type": "stream",
     "text": [
      "(32319, 4)\n",
      "32319\n"
     ]
    }
   ],
   "source": [
    "df_train_1k = df_train_3k.drop('1k',axis=1)\n",
    "df_train_1k =df_train_1k.drop_duplicates()\n",
    "print(df_train_1k.shape)\n",
    "val_index_1k = list(df_train_1k.index.values.tolist())\n",
    "print(len(val_index_1k))"
   ]
  },
  {
   "cell_type": "code",
   "execution_count": 212,
   "id": "ea42304b",
   "metadata": {},
   "outputs": [],
   "source": [
    "df_1k = df_train.loc[val_index_1k]"
   ]
  },
  {
   "cell_type": "code",
   "execution_count": 211,
   "id": "fce9de95",
   "metadata": {},
   "outputs": [
    {
     "name": "stdout",
     "output_type": "stream",
     "text": [
      "(5632, 3)\n",
      "5632\n"
     ]
    }
   ],
   "source": [
    "df_train_500k = df_train_1k.drop('500k',axis=1)\n",
    "df_train_500k =df_train_500k.drop_duplicates()\n",
    "print(df_train_500k.shape)\n",
    "val_index_500k = list(df_train_500k.index.values.tolist())\n",
    "print(len(val_index_500k))"
   ]
  },
  {
   "cell_type": "code",
   "execution_count": 214,
   "id": "152519dc",
   "metadata": {},
   "outputs": [
    {
     "data": {
      "text/html": [
       "<div>\n",
       "<style scoped>\n",
       "    .dataframe tbody tr th:only-of-type {\n",
       "        vertical-align: middle;\n",
       "    }\n",
       "\n",
       "    .dataframe tbody tr th {\n",
       "        vertical-align: top;\n",
       "    }\n",
       "\n",
       "    .dataframe thead th {\n",
       "        text-align: right;\n",
       "    }\n",
       "</style>\n",
       "<table border=\"1\" class=\"dataframe\">\n",
       "  <thead>\n",
       "    <tr style=\"text-align: right;\">\n",
       "      <th></th>\n",
       "      <th>500k</th>\n",
       "      <th>1k</th>\n",
       "      <th>2k</th>\n",
       "      <th>3k</th>\n",
       "      <th>4k</th>\n",
       "      <th>6k</th>\n",
       "      <th>8k</th>\n",
       "    </tr>\n",
       "  </thead>\n",
       "  <tbody>\n",
       "    <tr>\n",
       "      <th>176241</th>\n",
       "      <td>45.0</td>\n",
       "      <td>55.0</td>\n",
       "      <td>60.0</td>\n",
       "      <td>55.0</td>\n",
       "      <td>55.0</td>\n",
       "      <td>70.0</td>\n",
       "      <td>70.0</td>\n",
       "    </tr>\n",
       "    <tr>\n",
       "      <th>3537855</th>\n",
       "      <td>5.0</td>\n",
       "      <td>5.0</td>\n",
       "      <td>15.0</td>\n",
       "      <td>60.0</td>\n",
       "      <td>65.0</td>\n",
       "      <td>65.0</td>\n",
       "      <td>30.0</td>\n",
       "    </tr>\n",
       "    <tr>\n",
       "      <th>661980</th>\n",
       "      <td>5.0</td>\n",
       "      <td>15.0</td>\n",
       "      <td>15.0</td>\n",
       "      <td>25.0</td>\n",
       "      <td>30.0</td>\n",
       "      <td>45.0</td>\n",
       "      <td>30.0</td>\n",
       "    </tr>\n",
       "    <tr>\n",
       "      <th>613934</th>\n",
       "      <td>15.0</td>\n",
       "      <td>10.0</td>\n",
       "      <td>5.0</td>\n",
       "      <td>15.0</td>\n",
       "      <td>20.0</td>\n",
       "      <td>5.0</td>\n",
       "      <td>10.0</td>\n",
       "    </tr>\n",
       "    <tr>\n",
       "      <th>707220</th>\n",
       "      <td>0.0</td>\n",
       "      <td>0.0</td>\n",
       "      <td>0.0</td>\n",
       "      <td>30.0</td>\n",
       "      <td>25.0</td>\n",
       "      <td>10.0</td>\n",
       "      <td>25.0</td>\n",
       "    </tr>\n",
       "    <tr>\n",
       "      <th>...</th>\n",
       "      <td>...</td>\n",
       "      <td>...</td>\n",
       "      <td>...</td>\n",
       "      <td>...</td>\n",
       "      <td>...</td>\n",
       "      <td>...</td>\n",
       "      <td>...</td>\n",
       "    </tr>\n",
       "    <tr>\n",
       "      <th>5505542</th>\n",
       "      <td>65.0</td>\n",
       "      <td>70.0</td>\n",
       "      <td>80.0</td>\n",
       "      <td>45.0</td>\n",
       "      <td>55.0</td>\n",
       "      <td>50.0</td>\n",
       "      <td>65.0</td>\n",
       "    </tr>\n",
       "    <tr>\n",
       "      <th>965514</th>\n",
       "      <td>25.0</td>\n",
       "      <td>25.0</td>\n",
       "      <td>40.0</td>\n",
       "      <td>96.0</td>\n",
       "      <td>60.0</td>\n",
       "      <td>96.0</td>\n",
       "      <td>96.0</td>\n",
       "    </tr>\n",
       "    <tr>\n",
       "      <th>5408412</th>\n",
       "      <td>10.0</td>\n",
       "      <td>5.0</td>\n",
       "      <td>20.0</td>\n",
       "      <td>15.0</td>\n",
       "      <td>5.0</td>\n",
       "      <td>-5.0</td>\n",
       "      <td>-5.0</td>\n",
       "    </tr>\n",
       "    <tr>\n",
       "      <th>4956019</th>\n",
       "      <td>0.0</td>\n",
       "      <td>15.0</td>\n",
       "      <td>10.0</td>\n",
       "      <td>15.0</td>\n",
       "      <td>30.0</td>\n",
       "      <td>98.0</td>\n",
       "      <td>35.0</td>\n",
       "    </tr>\n",
       "    <tr>\n",
       "      <th>2505253</th>\n",
       "      <td>10.0</td>\n",
       "      <td>5.0</td>\n",
       "      <td>-1.0</td>\n",
       "      <td>0.0</td>\n",
       "      <td>30.0</td>\n",
       "      <td>25.0</td>\n",
       "      <td>15.0</td>\n",
       "    </tr>\n",
       "  </tbody>\n",
       "</table>\n",
       "<p>5632 rows × 7 columns</p>\n",
       "</div>"
      ],
      "text/plain": [
       "         500k    1k    2k    3k    4k    6k    8k\n",
       "176241   45.0  55.0  60.0  55.0  55.0  70.0  70.0\n",
       "3537855   5.0   5.0  15.0  60.0  65.0  65.0  30.0\n",
       "661980    5.0  15.0  15.0  25.0  30.0  45.0  30.0\n",
       "613934   15.0  10.0   5.0  15.0  20.0   5.0  10.0\n",
       "707220    0.0   0.0   0.0  30.0  25.0  10.0  25.0\n",
       "...       ...   ...   ...   ...   ...   ...   ...\n",
       "5505542  65.0  70.0  80.0  45.0  55.0  50.0  65.0\n",
       "965514   25.0  25.0  40.0  96.0  60.0  96.0  96.0\n",
       "5408412  10.0   5.0  20.0  15.0   5.0  -5.0  -5.0\n",
       "4956019   0.0  15.0  10.0  15.0  30.0  98.0  35.0\n",
       "2505253  10.0   5.0  -1.0   0.0  30.0  25.0  15.0\n",
       "\n",
       "[5632 rows x 7 columns]"
      ]
     },
     "execution_count": 214,
     "metadata": {},
     "output_type": "execute_result"
    }
   ],
   "source": [
    "df_500k = df_train.loc[val_index_500k]\n",
    "df_500k"
   ]
  },
  {
   "cell_type": "code",
   "execution_count": 215,
   "id": "a35dfcb1",
   "metadata": {},
   "outputs": [
    {
     "name": "stdout",
     "output_type": "stream",
     "text": [
      "(5632, 7)\n"
     ]
    },
    {
     "data": {
      "text/html": [
       "<div>\n",
       "<style scoped>\n",
       "    .dataframe tbody tr th:only-of-type {\n",
       "        vertical-align: middle;\n",
       "    }\n",
       "\n",
       "    .dataframe tbody tr th {\n",
       "        vertical-align: top;\n",
       "    }\n",
       "\n",
       "    .dataframe thead th {\n",
       "        text-align: right;\n",
       "    }\n",
       "</style>\n",
       "<table border=\"1\" class=\"dataframe\">\n",
       "  <thead>\n",
       "    <tr style=\"text-align: right;\">\n",
       "      <th></th>\n",
       "      <th>500k</th>\n",
       "      <th>1k</th>\n",
       "      <th>2k</th>\n",
       "      <th>3k</th>\n",
       "      <th>4k</th>\n",
       "      <th>6k</th>\n",
       "      <th>8k</th>\n",
       "    </tr>\n",
       "  </thead>\n",
       "  <tbody>\n",
       "    <tr>\n",
       "      <th>176241</th>\n",
       "      <td>45.0</td>\n",
       "      <td>55.0</td>\n",
       "      <td>60.0</td>\n",
       "      <td>55.0</td>\n",
       "      <td>55.0</td>\n",
       "      <td>70.0</td>\n",
       "      <td>70.0</td>\n",
       "    </tr>\n",
       "    <tr>\n",
       "      <th>3537855</th>\n",
       "      <td>5.0</td>\n",
       "      <td>5.0</td>\n",
       "      <td>15.0</td>\n",
       "      <td>60.0</td>\n",
       "      <td>65.0</td>\n",
       "      <td>65.0</td>\n",
       "      <td>30.0</td>\n",
       "    </tr>\n",
       "    <tr>\n",
       "      <th>661980</th>\n",
       "      <td>5.0</td>\n",
       "      <td>15.0</td>\n",
       "      <td>15.0</td>\n",
       "      <td>25.0</td>\n",
       "      <td>30.0</td>\n",
       "      <td>45.0</td>\n",
       "      <td>30.0</td>\n",
       "    </tr>\n",
       "    <tr>\n",
       "      <th>613934</th>\n",
       "      <td>15.0</td>\n",
       "      <td>10.0</td>\n",
       "      <td>5.0</td>\n",
       "      <td>15.0</td>\n",
       "      <td>20.0</td>\n",
       "      <td>5.0</td>\n",
       "      <td>10.0</td>\n",
       "    </tr>\n",
       "    <tr>\n",
       "      <th>707220</th>\n",
       "      <td>0.0</td>\n",
       "      <td>0.0</td>\n",
       "      <td>0.0</td>\n",
       "      <td>30.0</td>\n",
       "      <td>25.0</td>\n",
       "      <td>10.0</td>\n",
       "      <td>25.0</td>\n",
       "    </tr>\n",
       "    <tr>\n",
       "      <th>594998</th>\n",
       "      <td>15.0</td>\n",
       "      <td>20.0</td>\n",
       "      <td>20.0</td>\n",
       "      <td>45.0</td>\n",
       "      <td>40.0</td>\n",
       "      <td>35.0</td>\n",
       "      <td>35.0</td>\n",
       "    </tr>\n",
       "    <tr>\n",
       "      <th>5716875</th>\n",
       "      <td>10.0</td>\n",
       "      <td>10.0</td>\n",
       "      <td>0.0</td>\n",
       "      <td>35.0</td>\n",
       "      <td>60.0</td>\n",
       "      <td>65.0</td>\n",
       "      <td>30.0</td>\n",
       "    </tr>\n",
       "    <tr>\n",
       "      <th>2064719</th>\n",
       "      <td>5.0</td>\n",
       "      <td>10.0</td>\n",
       "      <td>0.0</td>\n",
       "      <td>0.0</td>\n",
       "      <td>35.0</td>\n",
       "      <td>5.0</td>\n",
       "      <td>0.0</td>\n",
       "    </tr>\n",
       "    <tr>\n",
       "      <th>870459</th>\n",
       "      <td>20.0</td>\n",
       "      <td>15.0</td>\n",
       "      <td>20.0</td>\n",
       "      <td>55.0</td>\n",
       "      <td>65.0</td>\n",
       "      <td>75.0</td>\n",
       "      <td>75.0</td>\n",
       "    </tr>\n",
       "    <tr>\n",
       "      <th>1536507</th>\n",
       "      <td>5.0</td>\n",
       "      <td>10.0</td>\n",
       "      <td>15.0</td>\n",
       "      <td>55.0</td>\n",
       "      <td>55.0</td>\n",
       "      <td>50.0</td>\n",
       "      <td>70.0</td>\n",
       "    </tr>\n",
       "  </tbody>\n",
       "</table>\n",
       "</div>"
      ],
      "text/plain": [
       "         500k    1k    2k    3k    4k    6k    8k\n",
       "176241   45.0  55.0  60.0  55.0  55.0  70.0  70.0\n",
       "3537855   5.0   5.0  15.0  60.0  65.0  65.0  30.0\n",
       "661980    5.0  15.0  15.0  25.0  30.0  45.0  30.0\n",
       "613934   15.0  10.0   5.0  15.0  20.0   5.0  10.0\n",
       "707220    0.0   0.0   0.0  30.0  25.0  10.0  25.0\n",
       "594998   15.0  20.0  20.0  45.0  40.0  35.0  35.0\n",
       "5716875  10.0  10.0   0.0  35.0  60.0  65.0  30.0\n",
       "2064719   5.0  10.0   0.0   0.0  35.0   5.0   0.0\n",
       "870459   20.0  15.0  20.0  55.0  65.0  75.0  75.0\n",
       "1536507   5.0  10.0  15.0  55.0  55.0  50.0  70.0"
      ]
     },
     "execution_count": 215,
     "metadata": {},
     "output_type": "execute_result"
    }
   ],
   "source": [
    "df_m = df_500k\n",
    "print(df_m.shape)\n",
    "df_m.head(10)"
   ]
  },
  {
   "cell_type": "code",
   "execution_count": 216,
   "id": "5e8c60d3",
   "metadata": {},
   "outputs": [
    {
     "data": {
      "text/html": [
       "<div>\n",
       "<style scoped>\n",
       "    .dataframe tbody tr th:only-of-type {\n",
       "        vertical-align: middle;\n",
       "    }\n",
       "\n",
       "    .dataframe tbody tr th {\n",
       "        vertical-align: top;\n",
       "    }\n",
       "\n",
       "    .dataframe thead th {\n",
       "        text-align: right;\n",
       "    }\n",
       "</style>\n",
       "<table border=\"1\" class=\"dataframe\">\n",
       "  <thead>\n",
       "    <tr style=\"text-align: right;\">\n",
       "      <th></th>\n",
       "      <th>500k</th>\n",
       "      <th>1k</th>\n",
       "      <th>2k</th>\n",
       "      <th>3k</th>\n",
       "      <th>4k</th>\n",
       "      <th>6k</th>\n",
       "      <th>8k</th>\n",
       "    </tr>\n",
       "  </thead>\n",
       "  <tbody>\n",
       "    <tr>\n",
       "      <th>500k</th>\n",
       "      <td>1.000000</td>\n",
       "      <td>0.881773</td>\n",
       "      <td>0.627287</td>\n",
       "      <td>0.410369</td>\n",
       "      <td>0.257450</td>\n",
       "      <td>0.267484</td>\n",
       "      <td>0.266966</td>\n",
       "    </tr>\n",
       "    <tr>\n",
       "      <th>1k</th>\n",
       "      <td>0.881773</td>\n",
       "      <td>1.000000</td>\n",
       "      <td>0.736224</td>\n",
       "      <td>0.474444</td>\n",
       "      <td>0.285216</td>\n",
       "      <td>0.268273</td>\n",
       "      <td>0.287207</td>\n",
       "    </tr>\n",
       "    <tr>\n",
       "      <th>2k</th>\n",
       "      <td>0.627287</td>\n",
       "      <td>0.736224</td>\n",
       "      <td>1.000000</td>\n",
       "      <td>0.673939</td>\n",
       "      <td>0.380010</td>\n",
       "      <td>0.247400</td>\n",
       "      <td>0.300210</td>\n",
       "    </tr>\n",
       "    <tr>\n",
       "      <th>3k</th>\n",
       "      <td>0.410369</td>\n",
       "      <td>0.474444</td>\n",
       "      <td>0.673939</td>\n",
       "      <td>1.000000</td>\n",
       "      <td>0.781495</td>\n",
       "      <td>0.425898</td>\n",
       "      <td>0.449145</td>\n",
       "    </tr>\n",
       "    <tr>\n",
       "      <th>4k</th>\n",
       "      <td>0.257450</td>\n",
       "      <td>0.285216</td>\n",
       "      <td>0.380010</td>\n",
       "      <td>0.781495</td>\n",
       "      <td>1.000000</td>\n",
       "      <td>0.492941</td>\n",
       "      <td>0.486598</td>\n",
       "    </tr>\n",
       "    <tr>\n",
       "      <th>6k</th>\n",
       "      <td>0.267484</td>\n",
       "      <td>0.268273</td>\n",
       "      <td>0.247400</td>\n",
       "      <td>0.425898</td>\n",
       "      <td>0.492941</td>\n",
       "      <td>1.000000</td>\n",
       "      <td>0.778395</td>\n",
       "    </tr>\n",
       "    <tr>\n",
       "      <th>8k</th>\n",
       "      <td>0.266966</td>\n",
       "      <td>0.287207</td>\n",
       "      <td>0.300210</td>\n",
       "      <td>0.449145</td>\n",
       "      <td>0.486598</td>\n",
       "      <td>0.778395</td>\n",
       "      <td>1.000000</td>\n",
       "    </tr>\n",
       "  </tbody>\n",
       "</table>\n",
       "</div>"
      ],
      "text/plain": [
       "          500k        1k        2k        3k        4k        6k        8k\n",
       "500k  1.000000  0.881773  0.627287  0.410369  0.257450  0.267484  0.266966\n",
       "1k    0.881773  1.000000  0.736224  0.474444  0.285216  0.268273  0.287207\n",
       "2k    0.627287  0.736224  1.000000  0.673939  0.380010  0.247400  0.300210\n",
       "3k    0.410369  0.474444  0.673939  1.000000  0.781495  0.425898  0.449145\n",
       "4k    0.257450  0.285216  0.380010  0.781495  1.000000  0.492941  0.486598\n",
       "6k    0.267484  0.268273  0.247400  0.425898  0.492941  1.000000  0.778395\n",
       "8k    0.266966  0.287207  0.300210  0.449145  0.486598  0.778395  1.000000"
      ]
     },
     "execution_count": 216,
     "metadata": {},
     "output_type": "execute_result"
    },
    {
     "data": {
      "image/png": "[encoded data removed]",
      "text/plain": [
       "<Figure size 432x288 with 2 Axes>"
      ]
     },
     "metadata": {
      "needs_background": "light"
     },
     "output_type": "display_data"
    }
   ],
   "source": [
    "# looking at correlation between variables\n",
    "sns.heatmap(df_m.corr())\n",
    "df_m.corr()"
   ]
  },
  {
   "cell_type": "markdown",
   "id": "2565224b",
   "metadata": {},
   "source": [
    "### Based on this heatmap, I would predict 3k, and 8k, and 1k ,a nd 500k in sequence."
   ]
  },
  {
   "cell_type": "code",
   "execution_count": 218,
   "id": "7238e557",
   "metadata": {},
   "outputs": [
    {
     "data": {
      "text/plain": [
       "((5632, 3), (5632, 1))"
      ]
     },
     "execution_count": 218,
     "metadata": {},
     "output_type": "execute_result"
    }
   ],
   "source": [
    "# seperating data for train, and test, based on three inputs, and 1 output\n",
    "inputs = df_m.loc[:,[\"2k\", \"4k\", \"6k\"]]\n",
    "outputs = df_m.loc[:,[\"3k\"]]\n",
    "inputs.shape, outputs.shape"
   ]
  },
  {
   "cell_type": "code",
   "execution_count": 240,
   "id": "f9447d54",
   "metadata": {},
   "outputs": [
    {
     "data": {
      "text/plain": [
       "((4505, 3), (1127, 3), (4505, 1), (1127, 1))"
      ]
     },
     "execution_count": 240,
     "metadata": {},
     "output_type": "execute_result"
    }
   ],
   "source": [
    "#Generate train and validation datasets\n",
    "X_train_L1, X_test_L1, y_train_L1, y_test_L1,= train_test_split(inputs,outputs ,test_size=0.20, random_state=42)\n",
    "\n",
    "X_train_L1.shape, X_test_L1.shape, y_train_L1.shape, y_test_L1.shape"
   ]
  },
  {
   "cell_type": "code",
   "execution_count": 241,
   "id": "4a1146a7",
   "metadata": {},
   "outputs": [
    {
     "data": {
      "text/plain": [
       "((4505, 3), (1127, 3), (4505,), (1127,))"
      ]
     },
     "execution_count": 241,
     "metadata": {},
     "output_type": "execute_result"
    }
   ],
   "source": [
    "# converting pandas dataframe to numpy array\n",
    "X_train_L1 = X_train_L1.to_numpy()\n",
    "X_test_L1 = X_test_L1.to_numpy()\n",
    "\n",
    "y_train_L1 = y_train_L1.to_numpy()\n",
    "y_test_L1 = y_test_L1.to_numpy()\n",
    "y_train_L1 = y_train_L1.flatten()\n",
    "y_test_L1 = y_test_L1.flatten()\n",
    "X_train_L1.shape, X_test_L1.shape, y_train_L1.shape, y_test_L1.shape"
   ]
  },
  {
   "cell_type": "code",
   "execution_count": 282,
   "id": "f53e2f3f",
   "metadata": {},
   "outputs": [
    {
     "data": {
      "text/plain": [
       "(4505, 3)"
      ]
     },
     "execution_count": 282,
     "metadata": {},
     "output_type": "execute_result"
    }
   ],
   "source": []
  },
  {
   "cell_type": "markdown",
   "id": "93836509",
   "metadata": {},
   "source": [
    "### Now that we have done all preprocessing, we create a model to predict '3k' column, and tune the model"
   ]
  },
  {
   "cell_type": "code",
   "execution_count": 242,
   "id": "97c30de5",
   "metadata": {},
   "outputs": [
    {
     "name": "stdout",
     "output_type": "stream",
     "text": [
      "{'bootstrap': True, 'max_depth': 5, 'max_features': 'auto', 'n_estimators': 500}\n",
      "0.7929575314176105\n"
     ]
    }
   ],
   "source": [
    "#List Hyperparameters that we want to tune for the first model.\n",
    "\n",
    "para_grids = {\n",
    "            'max_depth': [1,5,10, 20, 50, 70, 80, 100, None],\n",
    "            \"n_estimators\" : [10,50,100, 300, 500],\n",
    "            \"max_features\" : [\"auto\", \"log2\", \"sqrt\"],\n",
    "            \"bootstrap\"    : [True, False]\n",
    "        }\n",
    "\n",
    "regr_rf = RandomForestRegressor(random_state=0)\n",
    "clf = GridSearchCV(regr_rf, para_grids, cv=3, n_jobs = 1,return_train_score=True)\n",
    "model = clf.fit(X_train_L1, y_train_L1)\n",
    "print(model.best_params_)\n",
    "print(model.score(X_train_L1, y_train_L1))"
   ]
  },
  {
   "cell_type": "code",
   "execution_count": 243,
   "id": "3f40538a",
   "metadata": {},
   "outputs": [],
   "source": [
    "# Implement the hyperparamters\n",
    "regr_rf = RandomForestRegressor(n_estimators=500, max_depth=5, max_features=\"auto\", bootstrap=True)\n",
    "regr_rf.fit(X_train_L1, y_train_L1)\n",
    "y_rf = regr_rf.predict(X_test_L1)\n"
   ]
  },
  {
   "cell_type": "code",
   "execution_count": 244,
   "id": "ca5907a7",
   "metadata": {},
   "outputs": [
    {
     "name": "stdout",
     "output_type": "stream",
     "text": [
      "MSE for first regressor: 151.39367094488338\n",
      "MAE for first regressor: 9.220128791691828\n"
     ]
    }
   ],
   "source": [
    "# Evaluate the regressor for three models\n",
    "mse_one = mean_squared_error(y_test_L1, y_rf)\n",
    "print(f'MSE for first regressor: {mse_one}')\n",
    "mae_one = mean_absolute_error(y_test_L1, y_rf)\n",
    "print(f'MAE for first regressor: {mae_one}')"
   ]
  },
  {
   "cell_type": "markdown",
   "id": "492777bc",
   "metadata": {},
   "source": [
    "### Now it is time to create the second model to predict '8k'"
   ]
  },
  {
   "cell_type": "code",
   "execution_count": 245,
   "id": "53d05fe4",
   "metadata": {},
   "outputs": [
    {
     "name": "stdout",
     "output_type": "stream",
     "text": [
      "(32319, 7)\n"
     ]
    },
    {
     "data": {
      "text/html": [
       "<div>\n",
       "<style scoped>\n",
       "    .dataframe tbody tr th:only-of-type {\n",
       "        vertical-align: middle;\n",
       "    }\n",
       "\n",
       "    .dataframe tbody tr th {\n",
       "        vertical-align: top;\n",
       "    }\n",
       "\n",
       "    .dataframe thead th {\n",
       "        text-align: right;\n",
       "    }\n",
       "</style>\n",
       "<table border=\"1\" class=\"dataframe\">\n",
       "  <thead>\n",
       "    <tr style=\"text-align: right;\">\n",
       "      <th></th>\n",
       "      <th>500k</th>\n",
       "      <th>1k</th>\n",
       "      <th>2k</th>\n",
       "      <th>3k</th>\n",
       "      <th>4k</th>\n",
       "      <th>6k</th>\n",
       "      <th>8k</th>\n",
       "    </tr>\n",
       "  </thead>\n",
       "  <tbody>\n",
       "    <tr>\n",
       "      <th>176241</th>\n",
       "      <td>45.0</td>\n",
       "      <td>55.0</td>\n",
       "      <td>60.0</td>\n",
       "      <td>55.0</td>\n",
       "      <td>55.0</td>\n",
       "      <td>70.0</td>\n",
       "      <td>70.0</td>\n",
       "    </tr>\n",
       "    <tr>\n",
       "      <th>3537855</th>\n",
       "      <td>5.0</td>\n",
       "      <td>5.0</td>\n",
       "      <td>15.0</td>\n",
       "      <td>60.0</td>\n",
       "      <td>65.0</td>\n",
       "      <td>65.0</td>\n",
       "      <td>30.0</td>\n",
       "    </tr>\n",
       "    <tr>\n",
       "      <th>661980</th>\n",
       "      <td>5.0</td>\n",
       "      <td>15.0</td>\n",
       "      <td>15.0</td>\n",
       "      <td>25.0</td>\n",
       "      <td>30.0</td>\n",
       "      <td>45.0</td>\n",
       "      <td>30.0</td>\n",
       "    </tr>\n",
       "    <tr>\n",
       "      <th>613934</th>\n",
       "      <td>15.0</td>\n",
       "      <td>10.0</td>\n",
       "      <td>5.0</td>\n",
       "      <td>15.0</td>\n",
       "      <td>20.0</td>\n",
       "      <td>5.0</td>\n",
       "      <td>10.0</td>\n",
       "    </tr>\n",
       "    <tr>\n",
       "      <th>707220</th>\n",
       "      <td>0.0</td>\n",
       "      <td>0.0</td>\n",
       "      <td>0.0</td>\n",
       "      <td>30.0</td>\n",
       "      <td>25.0</td>\n",
       "      <td>10.0</td>\n",
       "      <td>25.0</td>\n",
       "    </tr>\n",
       "    <tr>\n",
       "      <th>594998</th>\n",
       "      <td>15.0</td>\n",
       "      <td>20.0</td>\n",
       "      <td>20.0</td>\n",
       "      <td>45.0</td>\n",
       "      <td>40.0</td>\n",
       "      <td>35.0</td>\n",
       "      <td>35.0</td>\n",
       "    </tr>\n",
       "    <tr>\n",
       "      <th>5716875</th>\n",
       "      <td>10.0</td>\n",
       "      <td>10.0</td>\n",
       "      <td>0.0</td>\n",
       "      <td>35.0</td>\n",
       "      <td>60.0</td>\n",
       "      <td>65.0</td>\n",
       "      <td>30.0</td>\n",
       "    </tr>\n",
       "    <tr>\n",
       "      <th>2064719</th>\n",
       "      <td>5.0</td>\n",
       "      <td>10.0</td>\n",
       "      <td>0.0</td>\n",
       "      <td>0.0</td>\n",
       "      <td>35.0</td>\n",
       "      <td>5.0</td>\n",
       "      <td>0.0</td>\n",
       "    </tr>\n",
       "    <tr>\n",
       "      <th>870459</th>\n",
       "      <td>20.0</td>\n",
       "      <td>15.0</td>\n",
       "      <td>20.0</td>\n",
       "      <td>55.0</td>\n",
       "      <td>65.0</td>\n",
       "      <td>75.0</td>\n",
       "      <td>75.0</td>\n",
       "    </tr>\n",
       "    <tr>\n",
       "      <th>1536507</th>\n",
       "      <td>5.0</td>\n",
       "      <td>10.0</td>\n",
       "      <td>15.0</td>\n",
       "      <td>55.0</td>\n",
       "      <td>55.0</td>\n",
       "      <td>50.0</td>\n",
       "      <td>70.0</td>\n",
       "    </tr>\n",
       "  </tbody>\n",
       "</table>\n",
       "</div>"
      ],
      "text/plain": [
       "         500k    1k    2k    3k    4k    6k    8k\n",
       "176241   45.0  55.0  60.0  55.0  55.0  70.0  70.0\n",
       "3537855   5.0   5.0  15.0  60.0  65.0  65.0  30.0\n",
       "661980    5.0  15.0  15.0  25.0  30.0  45.0  30.0\n",
       "613934   15.0  10.0   5.0  15.0  20.0   5.0  10.0\n",
       "707220    0.0   0.0   0.0  30.0  25.0  10.0  25.0\n",
       "594998   15.0  20.0  20.0  45.0  40.0  35.0  35.0\n",
       "5716875  10.0  10.0   0.0  35.0  60.0  65.0  30.0\n",
       "2064719   5.0  10.0   0.0   0.0  35.0   5.0   0.0\n",
       "870459   20.0  15.0  20.0  55.0  65.0  75.0  75.0\n",
       "1536507   5.0  10.0  15.0  55.0  55.0  50.0  70.0"
      ]
     },
     "execution_count": 245,
     "metadata": {},
     "output_type": "execute_result"
    }
   ],
   "source": [
    "df_m_2 = df_1k\n",
    "print(df_m_2.shape)\n",
    "df_m_2.head(10)"
   ]
  },
  {
   "cell_type": "code",
   "execution_count": 248,
   "id": "52e9bc43",
   "metadata": {},
   "outputs": [
    {
     "data": {
      "text/plain": [
       "((32319, 4), (32319, 1))"
      ]
     },
     "execution_count": 248,
     "metadata": {},
     "output_type": "execute_result"
    }
   ],
   "source": [
    "# seperating data for train, and test, based on four inputs, and 1 outputs\n",
    "inputs_2 = df_m_2.loc[:,[\"2k\", \"4k\", \"6k\",\"3k\"]]\n",
    "outputs_2 = df_m_2.loc[:,[\"8k\"]]\n",
    "inputs_2.shape, outputs_2.shape"
   ]
  },
  {
   "cell_type": "code",
   "execution_count": 249,
   "id": "232e64d1",
   "metadata": {},
   "outputs": [
    {
     "data": {
      "text/plain": [
       "((25855, 4), (6464, 4), (25855, 1), (6464, 1))"
      ]
     },
     "execution_count": 249,
     "metadata": {},
     "output_type": "execute_result"
    }
   ],
   "source": [
    "#Generate train and validation datasets\n",
    "X_train_L2, X_test_L2, y_train_L2, y_test_L2,= train_test_split(inputs_2, outputs_2 ,test_size=0.20, random_state=42)\n",
    "\n",
    "X_train_L2.shape, X_test_L2.shape, y_train_L2.shape, y_test_L2.shape"
   ]
  },
  {
   "cell_type": "code",
   "execution_count": 250,
   "id": "6eb97912",
   "metadata": {},
   "outputs": [
    {
     "data": {
      "text/plain": [
       "((25855, 4), (6464, 4), (25855,), (6464,))"
      ]
     },
     "execution_count": 250,
     "metadata": {},
     "output_type": "execute_result"
    }
   ],
   "source": [
    "# converting pandas dataframe to numpy array\n",
    "X_train_L2 = X_train_L2.to_numpy()\n",
    "X_test_L2 = X_test_L2.to_numpy()\n",
    "\n",
    "y_train_L2 = y_train_L2.to_numpy()\n",
    "y_test_L2 = y_test_L2.to_numpy()\n",
    "y_train_L2 = y_train_L2.flatten()\n",
    "y_test_L2 = y_test_L2.flatten()\n",
    "X_train_L2.shape, X_test_L2.shape, y_train_L2.shape, y_test_L2.shape"
   ]
  },
  {
   "cell_type": "code",
   "execution_count": 252,
   "id": "de6472d8",
   "metadata": {},
   "outputs": [
    {
     "name": "stdout",
     "output_type": "stream",
     "text": [
      "{'bootstrap': True, 'max_depth': 10, 'max_features': 'log2', 'n_estimators': 300}\n",
      "0.6570661968353547\n"
     ]
    }
   ],
   "source": [
    "#List Hyperparameters that we want to tune for the second model.\n",
    "\n",
    "para_grids = {\n",
    "            'max_depth': [1,5,10, 20, 50, 70, 80, 100, None],\n",
    "            \"n_estimators\" : [10,50,100, 300, 500],\n",
    "            \"max_features\" : [\"auto\", \"log2\", \"sqrt\"],\n",
    "            \"bootstrap\"    : [True, False]\n",
    "        }\n",
    "\n",
    "regr_rf2 = RandomForestRegressor(random_state=0)\n",
    "clf2 = GridSearchCV(regr_rf2, para_grids, cv=3, n_jobs = 1,return_train_score=True)\n",
    "model2 = clf2.fit(X_train_L2, y_train_L2)\n",
    "print(model2.best_params_)\n",
    "print(model2.score(X_train_L2, y_train_L2))"
   ]
  },
  {
   "cell_type": "code",
   "execution_count": 253,
   "id": "ea87cbd8",
   "metadata": {},
   "outputs": [],
   "source": [
    "# Implement the hyperparamters\n",
    "regr_rf2 = RandomForestRegressor(n_estimators=300, max_depth=10, max_features=\"log2\", bootstrap=True)\n",
    "regr_rf2.fit(X_train_L2, y_train_L2)\n",
    "y_rf2 = regr_rf2.predict(X_test_L2)"
   ]
  },
  {
   "cell_type": "code",
   "execution_count": 254,
   "id": "0705a16d",
   "metadata": {},
   "outputs": [
    {
     "name": "stdout",
     "output_type": "stream",
     "text": [
      "MSE for first regressor: 343.4183600398706\n",
      "MAE for first regressor: 13.03062227470727\n"
     ]
    }
   ],
   "source": [
    "# Evaluate the regressor for three models\n",
    "mse_one2 = mean_squared_error(y_test_L2, y_rf2)\n",
    "print(f'MSE for first regressor: {mse_one2}')\n",
    "mae_one2 = mean_absolute_error(y_test_L2, y_rf2)\n",
    "print(f'MAE for first regressor: {mae_one2}')"
   ]
  },
  {
   "cell_type": "markdown",
   "id": "38c52cfa",
   "metadata": {},
   "source": [
    "### Now it is time to create the second model to predict '1k'"
   ]
  },
  {
   "cell_type": "code",
   "execution_count": 255,
   "id": "b5f1a34f",
   "metadata": {},
   "outputs": [
    {
     "name": "stdout",
     "output_type": "stream",
     "text": [
      "(99453, 7)\n"
     ]
    },
    {
     "data": {
      "text/html": [
       "<div>\n",
       "<style scoped>\n",
       "    .dataframe tbody tr th:only-of-type {\n",
       "        vertical-align: middle;\n",
       "    }\n",
       "\n",
       "    .dataframe tbody tr th {\n",
       "        vertical-align: top;\n",
       "    }\n",
       "\n",
       "    .dataframe thead th {\n",
       "        text-align: right;\n",
       "    }\n",
       "</style>\n",
       "<table border=\"1\" class=\"dataframe\">\n",
       "  <thead>\n",
       "    <tr style=\"text-align: right;\">\n",
       "      <th></th>\n",
       "      <th>500k</th>\n",
       "      <th>1k</th>\n",
       "      <th>2k</th>\n",
       "      <th>3k</th>\n",
       "      <th>4k</th>\n",
       "      <th>6k</th>\n",
       "      <th>8k</th>\n",
       "    </tr>\n",
       "  </thead>\n",
       "  <tbody>\n",
       "    <tr>\n",
       "      <th>176241</th>\n",
       "      <td>45.0</td>\n",
       "      <td>55.0</td>\n",
       "      <td>60.0</td>\n",
       "      <td>55.0</td>\n",
       "      <td>55.0</td>\n",
       "      <td>70.0</td>\n",
       "      <td>70.0</td>\n",
       "    </tr>\n",
       "    <tr>\n",
       "      <th>3537855</th>\n",
       "      <td>5.0</td>\n",
       "      <td>5.0</td>\n",
       "      <td>15.0</td>\n",
       "      <td>60.0</td>\n",
       "      <td>65.0</td>\n",
       "      <td>65.0</td>\n",
       "      <td>30.0</td>\n",
       "    </tr>\n",
       "    <tr>\n",
       "      <th>661980</th>\n",
       "      <td>5.0</td>\n",
       "      <td>15.0</td>\n",
       "      <td>15.0</td>\n",
       "      <td>25.0</td>\n",
       "      <td>30.0</td>\n",
       "      <td>45.0</td>\n",
       "      <td>30.0</td>\n",
       "    </tr>\n",
       "    <tr>\n",
       "      <th>613934</th>\n",
       "      <td>15.0</td>\n",
       "      <td>10.0</td>\n",
       "      <td>5.0</td>\n",
       "      <td>15.0</td>\n",
       "      <td>20.0</td>\n",
       "      <td>5.0</td>\n",
       "      <td>10.0</td>\n",
       "    </tr>\n",
       "    <tr>\n",
       "      <th>707220</th>\n",
       "      <td>0.0</td>\n",
       "      <td>0.0</td>\n",
       "      <td>0.0</td>\n",
       "      <td>30.0</td>\n",
       "      <td>25.0</td>\n",
       "      <td>10.0</td>\n",
       "      <td>25.0</td>\n",
       "    </tr>\n",
       "    <tr>\n",
       "      <th>594998</th>\n",
       "      <td>15.0</td>\n",
       "      <td>20.0</td>\n",
       "      <td>20.0</td>\n",
       "      <td>45.0</td>\n",
       "      <td>40.0</td>\n",
       "      <td>35.0</td>\n",
       "      <td>35.0</td>\n",
       "    </tr>\n",
       "    <tr>\n",
       "      <th>5716875</th>\n",
       "      <td>10.0</td>\n",
       "      <td>10.0</td>\n",
       "      <td>0.0</td>\n",
       "      <td>35.0</td>\n",
       "      <td>60.0</td>\n",
       "      <td>65.0</td>\n",
       "      <td>30.0</td>\n",
       "    </tr>\n",
       "    <tr>\n",
       "      <th>2064719</th>\n",
       "      <td>5.0</td>\n",
       "      <td>10.0</td>\n",
       "      <td>0.0</td>\n",
       "      <td>0.0</td>\n",
       "      <td>35.0</td>\n",
       "      <td>5.0</td>\n",
       "      <td>0.0</td>\n",
       "    </tr>\n",
       "    <tr>\n",
       "      <th>870459</th>\n",
       "      <td>20.0</td>\n",
       "      <td>15.0</td>\n",
       "      <td>20.0</td>\n",
       "      <td>55.0</td>\n",
       "      <td>65.0</td>\n",
       "      <td>75.0</td>\n",
       "      <td>75.0</td>\n",
       "    </tr>\n",
       "    <tr>\n",
       "      <th>1536507</th>\n",
       "      <td>5.0</td>\n",
       "      <td>10.0</td>\n",
       "      <td>15.0</td>\n",
       "      <td>55.0</td>\n",
       "      <td>55.0</td>\n",
       "      <td>50.0</td>\n",
       "      <td>70.0</td>\n",
       "    </tr>\n",
       "  </tbody>\n",
       "</table>\n",
       "</div>"
      ],
      "text/plain": [
       "         500k    1k    2k    3k    4k    6k    8k\n",
       "176241   45.0  55.0  60.0  55.0  55.0  70.0  70.0\n",
       "3537855   5.0   5.0  15.0  60.0  65.0  65.0  30.0\n",
       "661980    5.0  15.0  15.0  25.0  30.0  45.0  30.0\n",
       "613934   15.0  10.0   5.0  15.0  20.0   5.0  10.0\n",
       "707220    0.0   0.0   0.0  30.0  25.0  10.0  25.0\n",
       "594998   15.0  20.0  20.0  45.0  40.0  35.0  35.0\n",
       "5716875  10.0  10.0   0.0  35.0  60.0  65.0  30.0\n",
       "2064719   5.0  10.0   0.0   0.0  35.0   5.0   0.0\n",
       "870459   20.0  15.0  20.0  55.0  65.0  75.0  75.0\n",
       "1536507   5.0  10.0  15.0  55.0  55.0  50.0  70.0"
      ]
     },
     "execution_count": 255,
     "metadata": {},
     "output_type": "execute_result"
    }
   ],
   "source": [
    "df_m_3 = df_3k\n",
    "print(df_m_3.shape)\n",
    "df_m_3.head(10)"
   ]
  },
  {
   "cell_type": "code",
   "execution_count": 256,
   "id": "1826909e",
   "metadata": {},
   "outputs": [
    {
     "data": {
      "text/plain": [
       "((99453, 5), (99453, 1))"
      ]
     },
     "execution_count": 256,
     "metadata": {},
     "output_type": "execute_result"
    }
   ],
   "source": [
    "# seperating data for train, and test, based on four inputs, and 1 outputs\n",
    "inputs_3 = df_m_3.loc[:,[\"2k\", \"4k\", \"6k\",\"3k\", \"8k\"]]\n",
    "outputs_3 = df_m_3.loc[:,[\"1k\"]]\n",
    "inputs_3.shape, outputs_3.shape"
   ]
  },
  {
   "cell_type": "code",
   "execution_count": 257,
   "id": "08533b0d",
   "metadata": {},
   "outputs": [
    {
     "data": {
      "text/plain": [
       "((79562, 5), (19891, 5), (79562, 1), (19891, 1))"
      ]
     },
     "execution_count": 257,
     "metadata": {},
     "output_type": "execute_result"
    }
   ],
   "source": [
    "#Generate train and validation datasets\n",
    "X_train_L3, X_test_L3, y_train_L3, y_test_L3,= train_test_split(inputs_3, outputs_3 ,test_size=0.20, random_state=42)\n",
    "\n",
    "X_train_L3.shape, X_test_L3.shape, y_train_L3.shape, y_test_L3.shape"
   ]
  },
  {
   "cell_type": "code",
   "execution_count": 258,
   "id": "91858b25",
   "metadata": {},
   "outputs": [
    {
     "data": {
      "text/plain": [
       "((79562, 5), (19891, 5), (79562,), (19891,))"
      ]
     },
     "execution_count": 258,
     "metadata": {},
     "output_type": "execute_result"
    }
   ],
   "source": [
    "# converting pandas dataframe to numpy array\n",
    "X_train_L3 = X_train_L3.to_numpy()\n",
    "X_test_L3 = X_test_L3.to_numpy()\n",
    "\n",
    "y_train_L3 = y_train_L3.to_numpy()\n",
    "y_test_L3 = y_test_L3.to_numpy()\n",
    "y_train_L3 = y_train_L3.flatten()\n",
    "y_test_L3 = y_test_L3.flatten()\n",
    "X_train_L3.shape, X_test_L3.shape, y_train_L3.shape, y_test_L3.shape"
   ]
  },
  {
   "cell_type": "code",
   "execution_count": 259,
   "id": "6acef250",
   "metadata": {},
   "outputs": [
    {
     "name": "stdout",
     "output_type": "stream",
     "text": [
      "{'bootstrap': True, 'max_depth': 10, 'max_features': 'log2', 'n_estimators': 500}\n",
      "0.4832387001905203\n"
     ]
    }
   ],
   "source": [
    "#List Hyperparameters that we want to tune for the third model.\n",
    "\n",
    "para_grids = {\n",
    "            'max_depth': [1,5,10, 20, 50, 70, 80, 100, None],\n",
    "            \"n_estimators\" : [10,50,100, 300, 500],\n",
    "            \"max_features\" : [\"auto\", \"log2\", \"sqrt\"],\n",
    "            \"bootstrap\"    : [True, False]\n",
    "        }\n",
    "\n",
    "regr_rf3 = RandomForestRegressor(random_state=0)\n",
    "clf3 = GridSearchCV(regr_rf3, para_grids, cv=3, n_jobs = 1,return_train_score=True)\n",
    "model3 = clf3.fit(X_train_L3, y_train_L3)\n",
    "print(model3.best_params_)\n",
    "print(model3.score(X_train_L3, y_train_L3))"
   ]
  },
  {
   "cell_type": "code",
   "execution_count": 303,
   "id": "ff859fd0",
   "metadata": {},
   "outputs": [
    {
     "data": {
      "text/plain": [
       "(79562, 5)"
      ]
     },
     "execution_count": 303,
     "metadata": {},
     "output_type": "execute_result"
    }
   ],
   "source": [
    "X_train_L3.shape"
   ]
  },
  {
   "cell_type": "code",
   "execution_count": 260,
   "id": "5d6836d0",
   "metadata": {},
   "outputs": [],
   "source": [
    "# Implement the hyperparamters\n",
    "regr_rf3 = RandomForestRegressor(n_estimators=500, max_depth=10, max_features=\"log2\", bootstrap=True)\n",
    "regr_rf3.fit(X_train_L3, y_train_L3)\n",
    "y_rf3 = regr_rf3.predict(X_test_L3)"
   ]
  },
  {
   "cell_type": "code",
   "execution_count": 261,
   "id": "2bb00019",
   "metadata": {},
   "outputs": [
    {
     "name": "stdout",
     "output_type": "stream",
     "text": [
      "MSE for first regressor: 153.84746445918614\n",
      "MAE for first regressor: 9.730656774649232\n"
     ]
    }
   ],
   "source": [
    "# Evaluate the regressor for three models\n",
    "mse_one3 = mean_squared_error(y_test_L3, y_rf3)\n",
    "print(f'MSE for first regressor: {mse_one3}')\n",
    "mae_one3 = mean_absolute_error(y_test_L3, y_rf3)\n",
    "print(f'MAE for first regressor: {mae_one3}')"
   ]
  },
  {
   "cell_type": "code",
   "execution_count": 262,
   "id": "0feccbf3",
   "metadata": {},
   "outputs": [
    {
     "name": "stdout",
     "output_type": "stream",
     "text": [
      "(328717, 7)\n"
     ]
    },
    {
     "data": {
      "text/html": [
       "<div>\n",
       "<style scoped>\n",
       "    .dataframe tbody tr th:only-of-type {\n",
       "        vertical-align: middle;\n",
       "    }\n",
       "\n",
       "    .dataframe tbody tr th {\n",
       "        vertical-align: top;\n",
       "    }\n",
       "\n",
       "    .dataframe thead th {\n",
       "        text-align: right;\n",
       "    }\n",
       "</style>\n",
       "<table border=\"1\" class=\"dataframe\">\n",
       "  <thead>\n",
       "    <tr style=\"text-align: right;\">\n",
       "      <th></th>\n",
       "      <th>500k</th>\n",
       "      <th>1k</th>\n",
       "      <th>2k</th>\n",
       "      <th>3k</th>\n",
       "      <th>4k</th>\n",
       "      <th>6k</th>\n",
       "      <th>8k</th>\n",
       "    </tr>\n",
       "  </thead>\n",
       "  <tbody>\n",
       "    <tr>\n",
       "      <th>176241</th>\n",
       "      <td>45.0</td>\n",
       "      <td>55.0</td>\n",
       "      <td>60.0</td>\n",
       "      <td>55.0</td>\n",
       "      <td>55.0</td>\n",
       "      <td>70.0</td>\n",
       "      <td>70.0</td>\n",
       "    </tr>\n",
       "    <tr>\n",
       "      <th>3537855</th>\n",
       "      <td>5.0</td>\n",
       "      <td>5.0</td>\n",
       "      <td>15.0</td>\n",
       "      <td>60.0</td>\n",
       "      <td>65.0</td>\n",
       "      <td>65.0</td>\n",
       "      <td>30.0</td>\n",
       "    </tr>\n",
       "    <tr>\n",
       "      <th>661980</th>\n",
       "      <td>5.0</td>\n",
       "      <td>15.0</td>\n",
       "      <td>15.0</td>\n",
       "      <td>25.0</td>\n",
       "      <td>30.0</td>\n",
       "      <td>45.0</td>\n",
       "      <td>30.0</td>\n",
       "    </tr>\n",
       "    <tr>\n",
       "      <th>613934</th>\n",
       "      <td>15.0</td>\n",
       "      <td>10.0</td>\n",
       "      <td>5.0</td>\n",
       "      <td>15.0</td>\n",
       "      <td>20.0</td>\n",
       "      <td>5.0</td>\n",
       "      <td>10.0</td>\n",
       "    </tr>\n",
       "    <tr>\n",
       "      <th>707220</th>\n",
       "      <td>0.0</td>\n",
       "      <td>0.0</td>\n",
       "      <td>0.0</td>\n",
       "      <td>30.0</td>\n",
       "      <td>25.0</td>\n",
       "      <td>10.0</td>\n",
       "      <td>25.0</td>\n",
       "    </tr>\n",
       "    <tr>\n",
       "      <th>594998</th>\n",
       "      <td>15.0</td>\n",
       "      <td>20.0</td>\n",
       "      <td>20.0</td>\n",
       "      <td>45.0</td>\n",
       "      <td>40.0</td>\n",
       "      <td>35.0</td>\n",
       "      <td>35.0</td>\n",
       "    </tr>\n",
       "    <tr>\n",
       "      <th>5716875</th>\n",
       "      <td>10.0</td>\n",
       "      <td>10.0</td>\n",
       "      <td>0.0</td>\n",
       "      <td>35.0</td>\n",
       "      <td>60.0</td>\n",
       "      <td>65.0</td>\n",
       "      <td>30.0</td>\n",
       "    </tr>\n",
       "    <tr>\n",
       "      <th>2064719</th>\n",
       "      <td>5.0</td>\n",
       "      <td>10.0</td>\n",
       "      <td>0.0</td>\n",
       "      <td>0.0</td>\n",
       "      <td>35.0</td>\n",
       "      <td>5.0</td>\n",
       "      <td>0.0</td>\n",
       "    </tr>\n",
       "    <tr>\n",
       "      <th>870459</th>\n",
       "      <td>20.0</td>\n",
       "      <td>15.0</td>\n",
       "      <td>20.0</td>\n",
       "      <td>55.0</td>\n",
       "      <td>65.0</td>\n",
       "      <td>75.0</td>\n",
       "      <td>75.0</td>\n",
       "    </tr>\n",
       "    <tr>\n",
       "      <th>1536507</th>\n",
       "      <td>5.0</td>\n",
       "      <td>10.0</td>\n",
       "      <td>15.0</td>\n",
       "      <td>55.0</td>\n",
       "      <td>55.0</td>\n",
       "      <td>50.0</td>\n",
       "      <td>70.0</td>\n",
       "    </tr>\n",
       "  </tbody>\n",
       "</table>\n",
       "</div>"
      ],
      "text/plain": [
       "         500k    1k    2k    3k    4k    6k    8k\n",
       "176241   45.0  55.0  60.0  55.0  55.0  70.0  70.0\n",
       "3537855   5.0   5.0  15.0  60.0  65.0  65.0  30.0\n",
       "661980    5.0  15.0  15.0  25.0  30.0  45.0  30.0\n",
       "613934   15.0  10.0   5.0  15.0  20.0   5.0  10.0\n",
       "707220    0.0   0.0   0.0  30.0  25.0  10.0  25.0\n",
       "594998   15.0  20.0  20.0  45.0  40.0  35.0  35.0\n",
       "5716875  10.0  10.0   0.0  35.0  60.0  65.0  30.0\n",
       "2064719   5.0  10.0   0.0   0.0  35.0   5.0   0.0\n",
       "870459   20.0  15.0  20.0  55.0  65.0  75.0  75.0\n",
       "1536507   5.0  10.0  15.0  55.0  55.0  50.0  70.0"
      ]
     },
     "execution_count": 262,
     "metadata": {},
     "output_type": "execute_result"
    }
   ],
   "source": [
    "df_m_4 = df_8k\n",
    "print(df_m_4.shape)\n",
    "df_m_4.head(10)"
   ]
  },
  {
   "cell_type": "code",
   "execution_count": 263,
   "id": "73489652",
   "metadata": {},
   "outputs": [
    {
     "data": {
      "text/plain": [
       "((328717, 6), (328717, 1))"
      ]
     },
     "execution_count": 263,
     "metadata": {},
     "output_type": "execute_result"
    }
   ],
   "source": [
    "# seperating data for train, and test, based on four inputs, and 1 outputs\n",
    "inputs_4 = df_m_4.loc[:,[\"2k\", \"4k\", \"6k\",\"3k\", \"8k\",\"1k\"]]\n",
    "outputs_4 = df_m_4.loc[:,[\"500k\"]]\n",
    "inputs_4.shape, outputs_4.shape"
   ]
  },
  {
   "cell_type": "code",
   "execution_count": 264,
   "id": "08713a72",
   "metadata": {},
   "outputs": [
    {
     "data": {
      "text/plain": [
       "((262973, 6), (65744, 6), (262973, 1), (65744, 1))"
      ]
     },
     "execution_count": 264,
     "metadata": {},
     "output_type": "execute_result"
    }
   ],
   "source": [
    "#Generate train and validation datasets\n",
    "X_train_L4, X_test_L4, y_train_L4, y_test_L4,= train_test_split(inputs_4, outputs_4 ,test_size=0.20, random_state=42)\n",
    "\n",
    "X_train_L4.shape, X_test_L4.shape, y_train_L4.shape, y_test_L4.shape"
   ]
  },
  {
   "cell_type": "code",
   "execution_count": 265,
   "id": "a1bdb0b7",
   "metadata": {},
   "outputs": [
    {
     "data": {
      "text/plain": [
       "((262973, 6), (65744, 6), (262973,), (65744,))"
      ]
     },
     "execution_count": 265,
     "metadata": {},
     "output_type": "execute_result"
    }
   ],
   "source": [
    "# converting pandas dataframe to numpy array\n",
    "X_train_L4 = X_train_L4.to_numpy()\n",
    "X_test_L4 = X_test_L4.to_numpy()\n",
    "\n",
    "y_train_L4 = y_train_L4.to_numpy()\n",
    "y_test_L4 = y_test_L4.to_numpy()\n",
    "y_train_L4 = y_train_L4.flatten()\n",
    "y_test_L4 = y_test_L4.flatten()\n",
    "X_train_L4.shape, X_test_L4.shape, y_train_L4.shape, y_test_L4.shape"
   ]
  },
  {
   "cell_type": "code",
   "execution_count": 266,
   "id": "9451ce96",
   "metadata": {},
   "outputs": [
    {
     "name": "stdout",
     "output_type": "stream",
     "text": [
      "{'bootstrap': True, 'max_depth': 10, 'max_features': 'auto', 'n_estimators': 300}\n",
      "0.6454739730593072\n"
     ]
    }
   ],
   "source": [
    "#List Hyperparameters that we want to tune for the fourth model.\n",
    "\n",
    "para_grids = {\n",
    "            'max_depth': [1,5,10, 20, 50, 70, 80, 100, None],\n",
    "            \"n_estimators\" : [10,50,100, 300, 500],\n",
    "            \"max_features\" : [\"auto\", \"log2\", \"sqrt\"],\n",
    "            \"bootstrap\"    : [True, False]\n",
    "        }\n",
    "\n",
    "regr_rf4 = RandomForestRegressor(random_state=0)\n",
    "clf4 = GridSearchCV(regr_rf4, para_grids, cv=3, n_jobs = 1,return_train_score=True)\n",
    "model4 = clf3.fit(X_train_L4, y_train_L4)\n",
    "print(model4.best_params_)\n",
    "print(model4.score(X_train_L4, y_train_L4))"
   ]
  },
  {
   "cell_type": "code",
   "execution_count": 267,
   "id": "c10a0f21",
   "metadata": {},
   "outputs": [],
   "source": [
    "# Implement the hyperparamters\n",
    "regr_rf4 = RandomForestRegressor(n_estimators=300, max_depth=10, max_features=\"log2\", bootstrap=True)\n",
    "regr_rf4.fit(X_train_L4, y_train_L4)\n",
    "y_rf4 = regr_rf4.predict(X_test_L4)"
   ]
  },
  {
   "cell_type": "code",
   "execution_count": 268,
   "id": "cb81bdcf",
   "metadata": {},
   "outputs": [
    {
     "name": "stdout",
     "output_type": "stream",
     "text": [
      "MSE for first regressor: 50.108271172634836\n",
      "MAE for first regressor: 5.663686500849751\n"
     ]
    }
   ],
   "source": [
    "# Evaluate the regressor for three models\n",
    "mse_one4 = mean_squared_error(y_test_L4, y_rf4)\n",
    "print(f'MSE for first regressor: {mse_one4}')\n",
    "mae_one4 = mean_absolute_error(y_test_L4, y_rf4)\n",
    "print(f'MAE for first regressor: {mae_one4}')"
   ]
  },
  {
   "cell_type": "markdown",
   "id": "3e450905",
   "metadata": {},
   "source": [
    "### After runing all four models, we save models to use it in command line"
   ]
  },
  {
   "cell_type": "code",
   "execution_count": 311,
   "id": "d2e014d6",
   "metadata": {},
   "outputs": [
    {
     "data": {
      "text/plain": [
       "['RandomForest4.pkl']"
      ]
     },
     "execution_count": 311,
     "metadata": {},
     "output_type": "execute_result"
    }
   ],
   "source": [
    "from joblib import Parallel, delayed\n",
    "import joblib\n",
    "joblib.dump(regr_rf, 'RandomForest1.pkl')\n",
    "joblib.dump(regr_rf2, 'RandomForest2.pkl')\n",
    "joblib.dump(regr_rf3, 'RandomForest3.pkl')\n",
    "joblib.dump(regr_rf4, 'RandomForest4.pkl')"
   ]
  },
  {
   "cell_type": "markdown",
   "id": "2f2339b1",
   "metadata": {},
   "source": [
    "### Here I run the model and check if it works"
   ]
  },
  {
   "cell_type": "code",
   "execution_count": 312,
   "id": "7eccf4c5",
   "metadata": {},
   "outputs": [],
   "source": [
    "from joblib import Parallel, delayed\n",
    "import joblib\n",
    "import pandas as pd\n",
    "from sklearn.ensemble import RandomForestRegressor\n",
    "from sklearn.model_selection import train_test_split\n",
    "from sklearn import metrics\n",
    "import numpy as np\n",
    "import sys, os\n",
    "import time\n",
    "\n",
    "\n",
    "def resource_path(relative_path):\n",
    "    \"\"\" Get the absolute path to the resource, works for dev and for PyInstaller \"\"\"\n",
    "    try:\n",
    "        # PyInstaller creates a temp folder and stores path in _MEIPASS\n",
    "        base_path = sys._MEIPASS\n",
    "    except Exception:\n",
    "        base_path = os.path.abspath(\".\")\n",
    "\n",
    "    return os.path.join(base_path, relative_path)"
   ]
  },
  {
   "cell_type": "code",
   "execution_count": 313,
   "id": "47cbd194",
   "metadata": {},
   "outputs": [],
   "source": [
    "with open(resource_path(\"C:/Users/gjaha/pyproj/Take_Home_Project_ Machine_Learning/RandomForest1.pkl\"), \"rb\") as f:\n",
    "    forest1 = joblib.load(f)\n",
    "with open(resource_path(\"C:/Users/gjaha/pyproj/Take_Home_Project_ Machine_Learning/RandomForest2.pkl\"), \"rb\") as f1:\n",
    "    forest2 = joblib.load(f1)\n",
    "with open(resource_path(\"C:/Users/gjaha/pyproj/Take_Home_Project_ Machine_Learning/RandomForest3.pkl\"), \"rb\") as f2:\n",
    "    forest3 = joblib.load(f2)\n",
    "with open(resource_path(\"C:/Users/gjaha/pyproj/Take_Home_Project_ Machine_Learning/RandomForest4.pkl\"), \"rb\") as f3:\n",
    "    forest4 = joblib.load(f3)"
   ]
  },
  {
   "cell_type": "code",
   "execution_count": 314,
   "id": "d3d66644",
   "metadata": {},
   "outputs": [
    {
     "name": "stdout",
     "output_type": "stream",
     "text": [
      "Enter individuals hearing threshold gain value (in dB) at 2kHz: 4\n",
      "Enter individuals hearing threshold gain value (in dB) at 4kHz: 5\n",
      "Enter individuals hearing threshold gain value (in dB) at 6kHz: 20\n"
     ]
    }
   ],
   "source": [
    "# input three data\n",
    "val_2k = int(input(\"Enter individuals hearing threshold gain value (in dB) at 2kHz: \"))\n",
    "val_4k = int(input(\"Enter individuals hearing threshold gain value (in dB) at 4kHz: \"))\n",
    "val_6k = int(input(\"Enter individuals hearing threshold gain value (in dB) at 6kHz: \"))"
   ]
  },
  {
   "cell_type": "code",
   "execution_count": 316,
   "id": "72c5791f",
   "metadata": {},
   "outputs": [
    {
     "data": {
      "text/plain": [
       "array([ 7,  6,  4,  6,  5, 20, 29], dtype=int8)"
      ]
     },
     "execution_count": 316,
     "metadata": {},
     "output_type": "execute_result"
    }
   ],
   "source": [
    "inputs1 = np.array([val_2k, val_4k, val_6k], dtype='int8')\n",
    "out1 = forest1.predict([inputs1]).astype(int)\n",
    "inputs2 = np.array([val_2k, val_4k, val_6k, out1[0]], dtype='int8')\n",
    "out2 = forest2.predict([inputs2]).astype(int)\n",
    "inputs3 = np.array([val_2k, val_4k, val_6k, out1[0], out2[0]], dtype='int8')\n",
    "out3 = forest3.predict([inputs3]).astype(int)\n",
    "inputs4 = np.array([val_2k, val_4k, val_6k, out1[0], out2[0], out3[0]], dtype='int8')\n",
    "out4 = forest4.predict([inputs4]).astype(int)\n",
    "output = np.array([out4[0],  out3[0], val_2k, out1[0], val_4k, val_6k, out2[0] ], dtype='int8')\n",
    "output"
   ]
  },
  {
   "cell_type": "code",
   "execution_count": null,
   "id": "3d1472e7",
   "metadata": {},
   "outputs": [],
   "source": []
  },
  {
   "cell_type": "code",
   "execution_count": 307,
   "id": "c263a170",
   "metadata": {},
   "outputs": [],
   "source": []
  },
  {
   "cell_type": "code",
   "execution_count": 308,
   "id": "da1d2ac6",
   "metadata": {},
   "outputs": [],
   "source": [
    "\n"
   ]
  },
  {
   "cell_type": "code",
   "execution_count": 309,
   "id": "c4700979",
   "metadata": {},
   "outputs": [],
   "source": []
  },
  {
   "cell_type": "code",
   "execution_count": null,
   "id": "7e781a11",
   "metadata": {},
   "outputs": [],
   "source": []
  },
  {
   "cell_type": "code",
   "execution_count": null,
   "id": "a9e8b24c",
   "metadata": {},
   "outputs": [],
   "source": []
  }
 ],
 "metadata": {
  "kernelspec": {
   "display_name": "Python 3 (ipykernel)",
   "language": "python",
   "name": "python3"
  },
  "language_info": {
   "codemirror_mode": {
    "name": "ipython",
    "version": 3
   },
   "file_extension": ".py",
   "mimetype": "text/x-python",
   "name": "python",
   "nbconvert_exporter": "python",
   "pygments_lexer": "ipython3",
   "version": "3.7.6"
  }
 },
 "nbformat": 4,
 "nbformat_minor": 5
}
